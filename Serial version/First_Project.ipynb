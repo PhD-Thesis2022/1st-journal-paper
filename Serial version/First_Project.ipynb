{
  "nbformat": 4,
  "nbformat_minor": 0,
  "metadata": {
    "colab": {
      "name": "Richard First Project.ipynb",
      "provenance": [],
      "collapsed_sections": [
        "mYr9FidOIOLW",
        "z-KDXZmOI_fJ",
        "DX40cQe1MQ0H",
        "NtWXR5RaO40r",
        "A2yiT2olRN9F",
        "AhcKW1IMSVVz",
        "ugfmnV21LNEx",
        "x_TFB2IcSk0d",
        "_L4sJYvbTF-Y",
        "b_WWiPeS1r1z",
        "Wpjvuo_LZTGh",
        "Mds6jXarfXWe",
        "6hRS-pIdwh40",
        "U1xJgWq32J72",
        "itUHmigP2Pa5",
        "FuMWMdN7e1dM",
        "mSSNPCM1e7Kb",
        "AM4zY8AHjTL8",
        "KZSY4PTBuvWD",
        "5JSKWkgEwWat",
        "6hYouioJZ7O7",
        "oTnM1uytZNRP",
        "hnaA3b5GTQxu",
        "d7llGJazTVxb",
        "Urfuf6gBhX8E",
        "SWxMgNx2g-sT",
        "YgONLc16hg7Y",
        "nFyp2ZoIhnPs"
      ],
      "toc_visible": true
    },
    "kernelspec": {
      "display_name": "Python 3",
      "name": "python3"
    },
    "widgets": {
      "application/vnd.jupyter.widget-state+json": {
        "e48015ce700c4398a26f847f93593ec1": {
          "model_module": "@jupyter-widgets/controls",
          "model_name": "HBoxModel",
          "model_module_version": "1.5.0",
          "state": {
            "_view_name": "HBoxView",
            "_dom_classes": [],
            "_model_name": "HBoxModel",
            "_view_module": "@jupyter-widgets/controls",
            "_model_module_version": "1.5.0",
            "_view_count": null,
            "_view_module_version": "1.5.0",
            "box_style": "",
            "layout": "IPY_MODEL_073d05f42a6d4afd938652c800152190",
            "_model_module": "@jupyter-widgets/controls",
            "children": [
              "IPY_MODEL_f28023c493c34e9abe5bdbfb2d6350b6",
              "IPY_MODEL_0f2332d4a7844d8280829932c34b44e1",
              "IPY_MODEL_4989844b23e04a6facf9948da04d7abc"
            ]
          }
        },
        "073d05f42a6d4afd938652c800152190": {
          "model_module": "@jupyter-widgets/base",
          "model_name": "LayoutModel",
          "model_module_version": "1.2.0",
          "state": {
            "_view_name": "LayoutView",
            "grid_template_rows": null,
            "right": null,
            "justify_content": null,
            "_view_module": "@jupyter-widgets/base",
            "overflow": null,
            "_model_module_version": "1.2.0",
            "_view_count": null,
            "flex_flow": null,
            "width": null,
            "min_width": null,
            "border": null,
            "align_items": null,
            "bottom": null,
            "_model_module": "@jupyter-widgets/base",
            "top": null,
            "grid_column": null,
            "overflow_y": null,
            "overflow_x": null,
            "grid_auto_flow": null,
            "grid_area": null,
            "grid_template_columns": null,
            "flex": null,
            "_model_name": "LayoutModel",
            "justify_items": null,
            "grid_row": null,
            "max_height": null,
            "align_content": null,
            "visibility": null,
            "align_self": null,
            "height": null,
            "min_height": null,
            "padding": null,
            "grid_auto_rows": null,
            "grid_gap": null,
            "max_width": null,
            "order": null,
            "_view_module_version": "1.2.0",
            "grid_template_areas": null,
            "object_position": null,
            "object_fit": null,
            "grid_auto_columns": null,
            "margin": null,
            "display": null,
            "left": null
          }
        },
        "f28023c493c34e9abe5bdbfb2d6350b6": {
          "model_module": "@jupyter-widgets/controls",
          "model_name": "HTMLModel",
          "model_module_version": "1.5.0",
          "state": {
            "_view_name": "HTMLView",
            "style": "IPY_MODEL_146e54e22cda4466b6e29db041e4c3a0",
            "_dom_classes": [],
            "description": "",
            "_model_name": "HTMLModel",
            "placeholder": "​",
            "_view_module": "@jupyter-widgets/controls",
            "_model_module_version": "1.5.0",
            "value": "PGD - Batches: ",
            "_view_count": null,
            "_view_module_version": "1.5.0",
            "description_tooltip": null,
            "_model_module": "@jupyter-widgets/controls",
            "layout": "IPY_MODEL_3e123f7ef3fb46318dab74d8fbcf7623"
          }
        },
        "0f2332d4a7844d8280829932c34b44e1": {
          "model_module": "@jupyter-widgets/controls",
          "model_name": "FloatProgressModel",
          "model_module_version": "1.5.0",
          "state": {
            "_view_name": "ProgressView",
            "style": "IPY_MODEL_390be40de66049d1897d9b6ccd03d217",
            "_dom_classes": [],
            "description": "",
            "_model_name": "FloatProgressModel",
            "bar_style": "info",
            "max": 1,
            "_view_module": "@jupyter-widgets/controls",
            "_model_module_version": "1.5.0",
            "value": 1,
            "_view_count": null,
            "_view_module_version": "1.5.0",
            "orientation": "horizontal",
            "min": 0,
            "description_tooltip": null,
            "_model_module": "@jupyter-widgets/controls",
            "layout": "IPY_MODEL_d4490fa04af44a348deeabacadacdcbc"
          }
        },
        "4989844b23e04a6facf9948da04d7abc": {
          "model_module": "@jupyter-widgets/controls",
          "model_name": "HTMLModel",
          "model_module_version": "1.5.0",
          "state": {
            "_view_name": "HTMLView",
            "style": "IPY_MODEL_a7492c29745a489696e20a457856417b",
            "_dom_classes": [],
            "description": "",
            "_model_name": "HTMLModel",
            "placeholder": "​",
            "_view_module": "@jupyter-widgets/controls",
            "_model_module_version": "1.5.0",
            "value": " 177/? [04:02&lt;00:00,  1.22s/it]",
            "_view_count": null,
            "_view_module_version": "1.5.0",
            "description_tooltip": null,
            "_model_module": "@jupyter-widgets/controls",
            "layout": "IPY_MODEL_e8f47a7906c44400881c526a3ea31465"
          }
        },
        "146e54e22cda4466b6e29db041e4c3a0": {
          "model_module": "@jupyter-widgets/controls",
          "model_name": "DescriptionStyleModel",
          "model_module_version": "1.5.0",
          "state": {
            "_view_name": "StyleView",
            "_model_name": "DescriptionStyleModel",
            "description_width": "",
            "_view_module": "@jupyter-widgets/base",
            "_model_module_version": "1.5.0",
            "_view_count": null,
            "_view_module_version": "1.2.0",
            "_model_module": "@jupyter-widgets/controls"
          }
        },
        "3e123f7ef3fb46318dab74d8fbcf7623": {
          "model_module": "@jupyter-widgets/base",
          "model_name": "LayoutModel",
          "model_module_version": "1.2.0",
          "state": {
            "_view_name": "LayoutView",
            "grid_template_rows": null,
            "right": null,
            "justify_content": null,
            "_view_module": "@jupyter-widgets/base",
            "overflow": null,
            "_model_module_version": "1.2.0",
            "_view_count": null,
            "flex_flow": null,
            "width": null,
            "min_width": null,
            "border": null,
            "align_items": null,
            "bottom": null,
            "_model_module": "@jupyter-widgets/base",
            "top": null,
            "grid_column": null,
            "overflow_y": null,
            "overflow_x": null,
            "grid_auto_flow": null,
            "grid_area": null,
            "grid_template_columns": null,
            "flex": null,
            "_model_name": "LayoutModel",
            "justify_items": null,
            "grid_row": null,
            "max_height": null,
            "align_content": null,
            "visibility": null,
            "align_self": null,
            "height": null,
            "min_height": null,
            "padding": null,
            "grid_auto_rows": null,
            "grid_gap": null,
            "max_width": null,
            "order": null,
            "_view_module_version": "1.2.0",
            "grid_template_areas": null,
            "object_position": null,
            "object_fit": null,
            "grid_auto_columns": null,
            "margin": null,
            "display": null,
            "left": null
          }
        },
        "390be40de66049d1897d9b6ccd03d217": {
          "model_module": "@jupyter-widgets/controls",
          "model_name": "ProgressStyleModel",
          "model_module_version": "1.5.0",
          "state": {
            "_view_name": "StyleView",
            "_model_name": "ProgressStyleModel",
            "description_width": "",
            "_view_module": "@jupyter-widgets/base",
            "_model_module_version": "1.5.0",
            "_view_count": null,
            "_view_module_version": "1.2.0",
            "bar_color": null,
            "_model_module": "@jupyter-widgets/controls"
          }
        },
        "d4490fa04af44a348deeabacadacdcbc": {
          "model_module": "@jupyter-widgets/base",
          "model_name": "LayoutModel",
          "model_module_version": "1.2.0",
          "state": {
            "_view_name": "LayoutView",
            "grid_template_rows": null,
            "right": null,
            "justify_content": null,
            "_view_module": "@jupyter-widgets/base",
            "overflow": null,
            "_model_module_version": "1.2.0",
            "_view_count": null,
            "flex_flow": null,
            "width": "20px",
            "min_width": null,
            "border": null,
            "align_items": null,
            "bottom": null,
            "_model_module": "@jupyter-widgets/base",
            "top": null,
            "grid_column": null,
            "overflow_y": null,
            "overflow_x": null,
            "grid_auto_flow": null,
            "grid_area": null,
            "grid_template_columns": null,
            "flex": null,
            "_model_name": "LayoutModel",
            "justify_items": null,
            "grid_row": null,
            "max_height": null,
            "align_content": null,
            "visibility": null,
            "align_self": null,
            "height": null,
            "min_height": null,
            "padding": null,
            "grid_auto_rows": null,
            "grid_gap": null,
            "max_width": null,
            "order": null,
            "_view_module_version": "1.2.0",
            "grid_template_areas": null,
            "object_position": null,
            "object_fit": null,
            "grid_auto_columns": null,
            "margin": null,
            "display": null,
            "left": null
          }
        },
        "a7492c29745a489696e20a457856417b": {
          "model_module": "@jupyter-widgets/controls",
          "model_name": "DescriptionStyleModel",
          "model_module_version": "1.5.0",
          "state": {
            "_view_name": "StyleView",
            "_model_name": "DescriptionStyleModel",
            "description_width": "",
            "_view_module": "@jupyter-widgets/base",
            "_model_module_version": "1.5.0",
            "_view_count": null,
            "_view_module_version": "1.2.0",
            "_model_module": "@jupyter-widgets/controls"
          }
        },
        "e8f47a7906c44400881c526a3ea31465": {
          "model_module": "@jupyter-widgets/base",
          "model_name": "LayoutModel",
          "model_module_version": "1.2.0",
          "state": {
            "_view_name": "LayoutView",
            "grid_template_rows": null,
            "right": null,
            "justify_content": null,
            "_view_module": "@jupyter-widgets/base",
            "overflow": null,
            "_model_module_version": "1.2.0",
            "_view_count": null,
            "flex_flow": null,
            "width": null,
            "min_width": null,
            "border": null,
            "align_items": null,
            "bottom": null,
            "_model_module": "@jupyter-widgets/base",
            "top": null,
            "grid_column": null,
            "overflow_y": null,
            "overflow_x": null,
            "grid_auto_flow": null,
            "grid_area": null,
            "grid_template_columns": null,
            "flex": null,
            "_model_name": "LayoutModel",
            "justify_items": null,
            "grid_row": null,
            "max_height": null,
            "align_content": null,
            "visibility": null,
            "align_self": null,
            "height": null,
            "min_height": null,
            "padding": null,
            "grid_auto_rows": null,
            "grid_gap": null,
            "max_width": null,
            "order": null,
            "_view_module_version": "1.2.0",
            "grid_template_areas": null,
            "object_position": null,
            "object_fit": null,
            "grid_auto_columns": null,
            "margin": null,
            "display": null,
            "left": null
          }
        },
        "555ada8d611f4e109d027495229efe24": {
          "model_module": "@jupyter-widgets/controls",
          "model_name": "HBoxModel",
          "model_module_version": "1.5.0",
          "state": {
            "_view_name": "HBoxView",
            "_dom_classes": [],
            "_model_name": "HBoxModel",
            "_view_module": "@jupyter-widgets/controls",
            "_model_module_version": "1.5.0",
            "_view_count": null,
            "_view_module_version": "1.5.0",
            "box_style": "",
            "layout": "IPY_MODEL_08415b6987a640ff9d39967be79845e9",
            "_model_module": "@jupyter-widgets/controls",
            "children": [
              "IPY_MODEL_b660d95b106a41d2be9b59ea33811343",
              "IPY_MODEL_2d14de1ae6814099a57234939a3030d0",
              "IPY_MODEL_9fd5dcb556754d0cbaa3e0096b0aa1a8"
            ]
          }
        },
        "08415b6987a640ff9d39967be79845e9": {
          "model_module": "@jupyter-widgets/base",
          "model_name": "LayoutModel",
          "model_module_version": "1.2.0",
          "state": {
            "_view_name": "LayoutView",
            "grid_template_rows": null,
            "right": null,
            "justify_content": null,
            "_view_module": "@jupyter-widgets/base",
            "overflow": null,
            "_model_module_version": "1.2.0",
            "_view_count": null,
            "flex_flow": null,
            "width": null,
            "min_width": null,
            "border": null,
            "align_items": null,
            "bottom": null,
            "_model_module": "@jupyter-widgets/base",
            "top": null,
            "grid_column": null,
            "overflow_y": null,
            "overflow_x": null,
            "grid_auto_flow": null,
            "grid_area": null,
            "grid_template_columns": null,
            "flex": null,
            "_model_name": "LayoutModel",
            "justify_items": null,
            "grid_row": null,
            "max_height": null,
            "align_content": null,
            "visibility": null,
            "align_self": null,
            "height": null,
            "min_height": null,
            "padding": null,
            "grid_auto_rows": null,
            "grid_gap": null,
            "max_width": null,
            "order": null,
            "_view_module_version": "1.2.0",
            "grid_template_areas": null,
            "object_position": null,
            "object_fit": null,
            "grid_auto_columns": null,
            "margin": null,
            "display": null,
            "left": null
          }
        },
        "b660d95b106a41d2be9b59ea33811343": {
          "model_module": "@jupyter-widgets/controls",
          "model_name": "HTMLModel",
          "model_module_version": "1.5.0",
          "state": {
            "_view_name": "HTMLView",
            "style": "IPY_MODEL_8bf05f9d0a4a49ce9f9e94d55845ed77",
            "_dom_classes": [],
            "description": "",
            "_model_name": "HTMLModel",
            "placeholder": "​",
            "_view_module": "@jupyter-widgets/controls",
            "_model_module_version": "1.5.0",
            "value": "C&amp;W L_2: 100%",
            "_view_count": null,
            "_view_module_version": "1.5.0",
            "description_tooltip": null,
            "_model_module": "@jupyter-widgets/controls",
            "layout": "IPY_MODEL_f4fd17a2fa77460ea483b111421f5016"
          }
        },
        "2d14de1ae6814099a57234939a3030d0": {
          "model_module": "@jupyter-widgets/controls",
          "model_name": "FloatProgressModel",
          "model_module_version": "1.5.0",
          "state": {
            "_view_name": "ProgressView",
            "style": "IPY_MODEL_14cc0c3387d94b87bfa668ef3398c5ef",
            "_dom_classes": [],
            "description": "",
            "_model_name": "FloatProgressModel",
            "bar_style": "success",
            "max": 197,
            "_view_module": "@jupyter-widgets/controls",
            "_model_module_version": "1.5.0",
            "value": 197,
            "_view_count": null,
            "_view_module_version": "1.5.0",
            "orientation": "horizontal",
            "min": 0,
            "description_tooltip": null,
            "_model_module": "@jupyter-widgets/controls",
            "layout": "IPY_MODEL_cda2f070b7554b9a815153ba299be148"
          }
        },
        "9fd5dcb556754d0cbaa3e0096b0aa1a8": {
          "model_module": "@jupyter-widgets/controls",
          "model_name": "HTMLModel",
          "model_module_version": "1.5.0",
          "state": {
            "_view_name": "HTMLView",
            "style": "IPY_MODEL_b9cf5e2941fd4f10925a186d8cf816e0",
            "_dom_classes": [],
            "description": "",
            "_model_name": "HTMLModel",
            "placeholder": "​",
            "_view_module": "@jupyter-widgets/controls",
            "_model_module_version": "1.5.0",
            "value": " 197/197 [1:09:17&lt;00:00, 20.80s/it]",
            "_view_count": null,
            "_view_module_version": "1.5.0",
            "description_tooltip": null,
            "_model_module": "@jupyter-widgets/controls",
            "layout": "IPY_MODEL_21e232312dde41388481ba2701b817da"
          }
        },
        "8bf05f9d0a4a49ce9f9e94d55845ed77": {
          "model_module": "@jupyter-widgets/controls",
          "model_name": "DescriptionStyleModel",
          "model_module_version": "1.5.0",
          "state": {
            "_view_name": "StyleView",
            "_model_name": "DescriptionStyleModel",
            "description_width": "",
            "_view_module": "@jupyter-widgets/base",
            "_model_module_version": "1.5.0",
            "_view_count": null,
            "_view_module_version": "1.2.0",
            "_model_module": "@jupyter-widgets/controls"
          }
        },
        "f4fd17a2fa77460ea483b111421f5016": {
          "model_module": "@jupyter-widgets/base",
          "model_name": "LayoutModel",
          "model_module_version": "1.2.0",
          "state": {
            "_view_name": "LayoutView",
            "grid_template_rows": null,
            "right": null,
            "justify_content": null,
            "_view_module": "@jupyter-widgets/base",
            "overflow": null,
            "_model_module_version": "1.2.0",
            "_view_count": null,
            "flex_flow": null,
            "width": null,
            "min_width": null,
            "border": null,
            "align_items": null,
            "bottom": null,
            "_model_module": "@jupyter-widgets/base",
            "top": null,
            "grid_column": null,
            "overflow_y": null,
            "overflow_x": null,
            "grid_auto_flow": null,
            "grid_area": null,
            "grid_template_columns": null,
            "flex": null,
            "_model_name": "LayoutModel",
            "justify_items": null,
            "grid_row": null,
            "max_height": null,
            "align_content": null,
            "visibility": null,
            "align_self": null,
            "height": null,
            "min_height": null,
            "padding": null,
            "grid_auto_rows": null,
            "grid_gap": null,
            "max_width": null,
            "order": null,
            "_view_module_version": "1.2.0",
            "grid_template_areas": null,
            "object_position": null,
            "object_fit": null,
            "grid_auto_columns": null,
            "margin": null,
            "display": null,
            "left": null
          }
        },
        "14cc0c3387d94b87bfa668ef3398c5ef": {
          "model_module": "@jupyter-widgets/controls",
          "model_name": "ProgressStyleModel",
          "model_module_version": "1.5.0",
          "state": {
            "_view_name": "StyleView",
            "_model_name": "ProgressStyleModel",
            "description_width": "",
            "_view_module": "@jupyter-widgets/base",
            "_model_module_version": "1.5.0",
            "_view_count": null,
            "_view_module_version": "1.2.0",
            "bar_color": null,
            "_model_module": "@jupyter-widgets/controls"
          }
        },
        "cda2f070b7554b9a815153ba299be148": {
          "model_module": "@jupyter-widgets/base",
          "model_name": "LayoutModel",
          "model_module_version": "1.2.0",
          "state": {
            "_view_name": "LayoutView",
            "grid_template_rows": null,
            "right": null,
            "justify_content": null,
            "_view_module": "@jupyter-widgets/base",
            "overflow": null,
            "_model_module_version": "1.2.0",
            "_view_count": null,
            "flex_flow": null,
            "width": null,
            "min_width": null,
            "border": null,
            "align_items": null,
            "bottom": null,
            "_model_module": "@jupyter-widgets/base",
            "top": null,
            "grid_column": null,
            "overflow_y": null,
            "overflow_x": null,
            "grid_auto_flow": null,
            "grid_area": null,
            "grid_template_columns": null,
            "flex": null,
            "_model_name": "LayoutModel",
            "justify_items": null,
            "grid_row": null,
            "max_height": null,
            "align_content": null,
            "visibility": null,
            "align_self": null,
            "height": null,
            "min_height": null,
            "padding": null,
            "grid_auto_rows": null,
            "grid_gap": null,
            "max_width": null,
            "order": null,
            "_view_module_version": "1.2.0",
            "grid_template_areas": null,
            "object_position": null,
            "object_fit": null,
            "grid_auto_columns": null,
            "margin": null,
            "display": null,
            "left": null
          }
        },
        "b9cf5e2941fd4f10925a186d8cf816e0": {
          "model_module": "@jupyter-widgets/controls",
          "model_name": "DescriptionStyleModel",
          "model_module_version": "1.5.0",
          "state": {
            "_view_name": "StyleView",
            "_model_name": "DescriptionStyleModel",
            "description_width": "",
            "_view_module": "@jupyter-widgets/base",
            "_model_module_version": "1.5.0",
            "_view_count": null,
            "_view_module_version": "1.2.0",
            "_model_module": "@jupyter-widgets/controls"
          }
        },
        "21e232312dde41388481ba2701b817da": {
          "model_module": "@jupyter-widgets/base",
          "model_name": "LayoutModel",
          "model_module_version": "1.2.0",
          "state": {
            "_view_name": "LayoutView",
            "grid_template_rows": null,
            "right": null,
            "justify_content": null,
            "_view_module": "@jupyter-widgets/base",
            "overflow": null,
            "_model_module_version": "1.2.0",
            "_view_count": null,
            "flex_flow": null,
            "width": null,
            "min_width": null,
            "border": null,
            "align_items": null,
            "bottom": null,
            "_model_module": "@jupyter-widgets/base",
            "top": null,
            "grid_column": null,
            "overflow_y": null,
            "overflow_x": null,
            "grid_auto_flow": null,
            "grid_area": null,
            "grid_template_columns": null,
            "flex": null,
            "_model_name": "LayoutModel",
            "justify_items": null,
            "grid_row": null,
            "max_height": null,
            "align_content": null,
            "visibility": null,
            "align_self": null,
            "height": null,
            "min_height": null,
            "padding": null,
            "grid_auto_rows": null,
            "grid_gap": null,
            "max_width": null,
            "order": null,
            "_view_module_version": "1.2.0",
            "grid_template_areas": null,
            "object_position": null,
            "object_fit": null,
            "grid_auto_columns": null,
            "margin": null,
            "display": null,
            "left": null
          }
        },
        "7dba3287990c4325aff8921b2d7c1a53": {
          "model_module": "@jupyter-widgets/controls",
          "model_name": "HBoxModel",
          "model_module_version": "1.5.0",
          "state": {
            "_view_name": "HBoxView",
            "_dom_classes": [],
            "_model_name": "HBoxModel",
            "_view_module": "@jupyter-widgets/controls",
            "_model_module_version": "1.5.0",
            "_view_count": null,
            "_view_module_version": "1.5.0",
            "box_style": "",
            "layout": "IPY_MODEL_0404a1d6bc71489f90694230fa085709",
            "_model_module": "@jupyter-widgets/controls",
            "children": [
              "IPY_MODEL_a1a9e335ca4040638f39fc12a38d24b6",
              "IPY_MODEL_cb9d09f106324822a38a914fa980e2d6",
              "IPY_MODEL_3de596edf04848d888e7720b0b20cf76"
            ]
          }
        },
        "0404a1d6bc71489f90694230fa085709": {
          "model_module": "@jupyter-widgets/base",
          "model_name": "LayoutModel",
          "model_module_version": "1.2.0",
          "state": {
            "_view_name": "LayoutView",
            "grid_template_rows": null,
            "right": null,
            "justify_content": null,
            "_view_module": "@jupyter-widgets/base",
            "overflow": null,
            "_model_module_version": "1.2.0",
            "_view_count": null,
            "flex_flow": null,
            "width": null,
            "min_width": null,
            "border": null,
            "align_items": null,
            "bottom": null,
            "_model_module": "@jupyter-widgets/base",
            "top": null,
            "grid_column": null,
            "overflow_y": null,
            "overflow_x": null,
            "grid_auto_flow": null,
            "grid_area": null,
            "grid_template_columns": null,
            "flex": null,
            "_model_name": "LayoutModel",
            "justify_items": null,
            "grid_row": null,
            "max_height": null,
            "align_content": null,
            "visibility": null,
            "align_self": null,
            "height": null,
            "min_height": null,
            "padding": null,
            "grid_auto_rows": null,
            "grid_gap": null,
            "max_width": null,
            "order": null,
            "_view_module_version": "1.2.0",
            "grid_template_areas": null,
            "object_position": null,
            "object_fit": null,
            "grid_auto_columns": null,
            "margin": null,
            "display": null,
            "left": null
          }
        },
        "a1a9e335ca4040638f39fc12a38d24b6": {
          "model_module": "@jupyter-widgets/controls",
          "model_name": "HTMLModel",
          "model_module_version": "1.5.0",
          "state": {
            "_view_name": "HTMLView",
            "style": "IPY_MODEL_f321657dbfb94d1aab0a6e0046001598",
            "_dom_classes": [],
            "description": "",
            "_model_name": "HTMLModel",
            "placeholder": "​",
            "_view_module": "@jupyter-widgets/controls",
            "_model_module_version": "1.5.0",
            "value": "DeepFool: 100%",
            "_view_count": null,
            "_view_module_version": "1.5.0",
            "description_tooltip": null,
            "_model_module": "@jupyter-widgets/controls",
            "layout": "IPY_MODEL_81c8cabe566f4be485641d7e05ee205e"
          }
        },
        "cb9d09f106324822a38a914fa980e2d6": {
          "model_module": "@jupyter-widgets/controls",
          "model_name": "FloatProgressModel",
          "model_module_version": "1.5.0",
          "state": {
            "_view_name": "ProgressView",
            "style": "IPY_MODEL_c0be01ce959948c2bb6aa63c8580aef2",
            "_dom_classes": [],
            "description": "",
            "_model_name": "FloatProgressModel",
            "bar_style": "success",
            "max": 197,
            "_view_module": "@jupyter-widgets/controls",
            "_model_module_version": "1.5.0",
            "value": 197,
            "_view_count": null,
            "_view_module_version": "1.5.0",
            "orientation": "horizontal",
            "min": 0,
            "description_tooltip": null,
            "_model_module": "@jupyter-widgets/controls",
            "layout": "IPY_MODEL_371042626afa4260a7c5e8d535a15204"
          }
        },
        "3de596edf04848d888e7720b0b20cf76": {
          "model_module": "@jupyter-widgets/controls",
          "model_name": "HTMLModel",
          "model_module_version": "1.5.0",
          "state": {
            "_view_name": "HTMLView",
            "style": "IPY_MODEL_c94d800852704c76863ba0c9393ea68f",
            "_dom_classes": [],
            "description": "",
            "_model_name": "HTMLModel",
            "placeholder": "​",
            "_view_module": "@jupyter-widgets/controls",
            "_model_module_version": "1.5.0",
            "value": " 197/197 [03:34&lt;00:00,  1.08s/it]",
            "_view_count": null,
            "_view_module_version": "1.5.0",
            "description_tooltip": null,
            "_model_module": "@jupyter-widgets/controls",
            "layout": "IPY_MODEL_b46c069bb64a41069912ff6c00eac4ef"
          }
        },
        "f321657dbfb94d1aab0a6e0046001598": {
          "model_module": "@jupyter-widgets/controls",
          "model_name": "DescriptionStyleModel",
          "model_module_version": "1.5.0",
          "state": {
            "_view_name": "StyleView",
            "_model_name": "DescriptionStyleModel",
            "description_width": "",
            "_view_module": "@jupyter-widgets/base",
            "_model_module_version": "1.5.0",
            "_view_count": null,
            "_view_module_version": "1.2.0",
            "_model_module": "@jupyter-widgets/controls"
          }
        },
        "81c8cabe566f4be485641d7e05ee205e": {
          "model_module": "@jupyter-widgets/base",
          "model_name": "LayoutModel",
          "model_module_version": "1.2.0",
          "state": {
            "_view_name": "LayoutView",
            "grid_template_rows": null,
            "right": null,
            "justify_content": null,
            "_view_module": "@jupyter-widgets/base",
            "overflow": null,
            "_model_module_version": "1.2.0",
            "_view_count": null,
            "flex_flow": null,
            "width": null,
            "min_width": null,
            "border": null,
            "align_items": null,
            "bottom": null,
            "_model_module": "@jupyter-widgets/base",
            "top": null,
            "grid_column": null,
            "overflow_y": null,
            "overflow_x": null,
            "grid_auto_flow": null,
            "grid_area": null,
            "grid_template_columns": null,
            "flex": null,
            "_model_name": "LayoutModel",
            "justify_items": null,
            "grid_row": null,
            "max_height": null,
            "align_content": null,
            "visibility": null,
            "align_self": null,
            "height": null,
            "min_height": null,
            "padding": null,
            "grid_auto_rows": null,
            "grid_gap": null,
            "max_width": null,
            "order": null,
            "_view_module_version": "1.2.0",
            "grid_template_areas": null,
            "object_position": null,
            "object_fit": null,
            "grid_auto_columns": null,
            "margin": null,
            "display": null,
            "left": null
          }
        },
        "c0be01ce959948c2bb6aa63c8580aef2": {
          "model_module": "@jupyter-widgets/controls",
          "model_name": "ProgressStyleModel",
          "model_module_version": "1.5.0",
          "state": {
            "_view_name": "StyleView",
            "_model_name": "ProgressStyleModel",
            "description_width": "",
            "_view_module": "@jupyter-widgets/base",
            "_model_module_version": "1.5.0",
            "_view_count": null,
            "_view_module_version": "1.2.0",
            "bar_color": null,
            "_model_module": "@jupyter-widgets/controls"
          }
        },
        "371042626afa4260a7c5e8d535a15204": {
          "model_module": "@jupyter-widgets/base",
          "model_name": "LayoutModel",
          "model_module_version": "1.2.0",
          "state": {
            "_view_name": "LayoutView",
            "grid_template_rows": null,
            "right": null,
            "justify_content": null,
            "_view_module": "@jupyter-widgets/base",
            "overflow": null,
            "_model_module_version": "1.2.0",
            "_view_count": null,
            "flex_flow": null,
            "width": null,
            "min_width": null,
            "border": null,
            "align_items": null,
            "bottom": null,
            "_model_module": "@jupyter-widgets/base",
            "top": null,
            "grid_column": null,
            "overflow_y": null,
            "overflow_x": null,
            "grid_auto_flow": null,
            "grid_area": null,
            "grid_template_columns": null,
            "flex": null,
            "_model_name": "LayoutModel",
            "justify_items": null,
            "grid_row": null,
            "max_height": null,
            "align_content": null,
            "visibility": null,
            "align_self": null,
            "height": null,
            "min_height": null,
            "padding": null,
            "grid_auto_rows": null,
            "grid_gap": null,
            "max_width": null,
            "order": null,
            "_view_module_version": "1.2.0",
            "grid_template_areas": null,
            "object_position": null,
            "object_fit": null,
            "grid_auto_columns": null,
            "margin": null,
            "display": null,
            "left": null
          }
        },
        "c94d800852704c76863ba0c9393ea68f": {
          "model_module": "@jupyter-widgets/controls",
          "model_name": "DescriptionStyleModel",
          "model_module_version": "1.5.0",
          "state": {
            "_view_name": "StyleView",
            "_model_name": "DescriptionStyleModel",
            "description_width": "",
            "_view_module": "@jupyter-widgets/base",
            "_model_module_version": "1.5.0",
            "_view_count": null,
            "_view_module_version": "1.2.0",
            "_model_module": "@jupyter-widgets/controls"
          }
        },
        "b46c069bb64a41069912ff6c00eac4ef": {
          "model_module": "@jupyter-widgets/base",
          "model_name": "LayoutModel",
          "model_module_version": "1.2.0",
          "state": {
            "_view_name": "LayoutView",
            "grid_template_rows": null,
            "right": null,
            "justify_content": null,
            "_view_module": "@jupyter-widgets/base",
            "overflow": null,
            "_model_module_version": "1.2.0",
            "_view_count": null,
            "flex_flow": null,
            "width": null,
            "min_width": null,
            "border": null,
            "align_items": null,
            "bottom": null,
            "_model_module": "@jupyter-widgets/base",
            "top": null,
            "grid_column": null,
            "overflow_y": null,
            "overflow_x": null,
            "grid_auto_flow": null,
            "grid_area": null,
            "grid_template_columns": null,
            "flex": null,
            "_model_name": "LayoutModel",
            "justify_items": null,
            "grid_row": null,
            "max_height": null,
            "align_content": null,
            "visibility": null,
            "align_self": null,
            "height": null,
            "min_height": null,
            "padding": null,
            "grid_auto_rows": null,
            "grid_gap": null,
            "max_width": null,
            "order": null,
            "_view_module_version": "1.2.0",
            "grid_template_areas": null,
            "object_position": null,
            "object_fit": null,
            "grid_auto_columns": null,
            "margin": null,
            "display": null,
            "left": null
          }
        }
      }
    },
    "accelerator": "TPU"
  },
  "cells": [
    {
      "cell_type": "markdown",
      "metadata": {
        "id": "gmWYMvp_A4_M"
      },
      "source": [
        "# A Deeper Analysis of Adversarial Examples in Intrusion Detection"
      ]
    },
    {
      "cell_type": "markdown",
      "metadata": {
        "id": "mYr9FidOIOLW"
      },
      "source": [
        "## Libraries import"
      ]
    },
    {
      "cell_type": "code",
      "metadata": {
        "id": "CzFYfiRmIJri",
        "colab": {
          "base_uri": "https://localhost:8080/"
        },
        "outputId": "d9940874-6ce8-4c3a-8a08-e5aef37c1354"
      },
      "source": [
        "import numpy as np\n",
        "import pandas as pd\n",
        "import matplotlib.pyplot as plt\n",
        "import seaborn as sb\n",
        "import copy\n",
        "import time as time\n",
        "\n",
        "import tensorflow as tf\n",
        "import pickle as pkl\n",
        "\n",
        "from sklearn.metrics import classification_report\n",
        "from sklearn.decomposition import PCA\n",
        "from sklearn.feature_selection import chi2\n",
        "\n",
        "!pip install adversarial-robustness-toolbox >/dev/null\n",
        "from art.attacks.evasion import FastGradientMethod, BasicIterativeMethod, CarliniL2Method, ProjectedGradientDescentTensorFlowV2, SaliencyMapMethod, DeepFool\n",
        "from art.classifiers import TensorFlowV2Classifier\n",
        "\n",
        "%matplotlib inline\n",
        "\n",
        "pd.options.display.max_columns = 200\n",
        "pd.options.display.max_rows = 200\n",
        "\n",
        "# Select the training device\n",
        "device = '/GPU:0'"
      ],
      "execution_count": null,
      "outputs": [
        {
          "output_type": "stream",
          "text": [
            "/usr/local/lib/python3.7/dist-packages/ipykernel_launcher.py:17: DeprecationWarning: The module art.classifiers will be removed in ART 1.8.0 and replaced with art.estimators.classification\n"
          ],
          "name": "stderr"
        }
      ]
    },
    {
      "cell_type": "markdown",
      "metadata": {
        "id": "z-KDXZmOI_fJ"
      },
      "source": [
        "## NSL-KDD Pre-Processing"
      ]
    },
    {
      "cell_type": "markdown",
      "metadata": {
        "id": "dzucpNF9JJq0"
      },
      "source": [
        "### Dowloading and importing the dataset"
      ]
    },
    {
      "cell_type": "code",
      "metadata": {
        "id": "wRL6avqAI58a",
        "colab": {
          "base_uri": "https://localhost:8080/"
        },
        "outputId": "41cfbbee-ae4c-4a25-c132-85cc96a856bd"
      },
      "source": [
        "#Downloading and extracting the dataset if it doesn't exist\n",
        "!if [ ! -d \"./NSL-KDD\" ]; then wget http://205.174.165.80/CICDataset/NSL-KDD/Dataset/NSL-KDD.zip; mkdir NSL-KDD; unzip NSL-KDD.zip -d NSL-KDD; fi\n",
        "    \n",
        "#Importing the training and testing datasets from .CSV to Pandas DataFrames\n",
        "features = ['1 Duration', '2 Protocol-type : ', '3 Service : ', '4 Flag : ', '5 Src-bytes', '6 Dst-bytes', '7 Land', '8 Wrong-fragment', '9 Urgent', '10 Hot', '11 Num-failed-logins', '12 Logged-in', '13 Num-compromised', '14 Root-shell', '15 Su-attempted', '16 Num-root', '17 Num-file-creations', '18 Num-shells', '19 Num-access-files', '20 Num-outbound-cmds', '21 Is-host-login', '22 Is-guest-login', '23 Count', '24 Srv-count', '25 Serror-rate', '26 Srv-serror-rate', '27 Rerror-rate', '28 Srv-rerror-rate', '29 Same-srv-rate', '30 Diff-srv-rate', '31 Srv-diff-host-rate', '32 Dst-host-count', '33 Dst-host-srv-count', '34 Dst-host-same-srv-rate', '35 Dst-host-diff-srv-rate', '36 Dst-host-same-src-port-rate', '37 Dst-host-srv-diff-host-rate', '38 Dst-host-serror-rate', '39 Dst-host-srv-serror-rate', '40 Dst-host-rerror-rate', '41 Dst-host-srv-rerror-rate', '42 Attack_type', '43 Difficulty']\n",
        "df_training = pd.read_csv('./NSL-KDD/KDDTrain+_20Percent.txt', names=features)\n",
        "df_testing = pd.read_csv('./NSL-KDD/KDDTest+.txt', names=features)\n",
        "# Stack the training and test sets\n",
        "data = pd.concat([df_training, df_testing], axis=0)"
      ],
      "execution_count": null,
      "outputs": [
        {
          "output_type": "stream",
          "text": [
            "--2021-08-29 18:55:40--  http://205.174.165.80/CICDataset/NSL-KDD/Dataset/NSL-KDD.zip\n",
            "Connecting to 205.174.165.80:80... connected.\n",
            "HTTP request sent, awaiting response... 200 OK\n",
            "Length: 6598776 (6.3M) [application/zip]\n",
            "Saving to: ‘NSL-KDD.zip’\n",
            "\n",
            "NSL-KDD.zip         100%[===================>]   6.29M  4.59MB/s    in 1.4s    \n",
            "\n",
            "2021-08-29 18:55:46 (4.59 MB/s) - ‘NSL-KDD.zip’ saved [6598776/6598776]\n",
            "\n",
            "Archive:  NSL-KDD.zip\n",
            "  inflating: NSL-KDD/index.html      \n",
            "  inflating: NSL-KDD/KDDTest1.jpg    \n",
            "  inflating: NSL-KDD/KDDTest-21.arff  \n",
            "  inflating: NSL-KDD/KDDTest-21.txt  \n",
            "  inflating: NSL-KDD/KDDTest+.arff   \n",
            "  inflating: NSL-KDD/KDDTest+.txt    \n",
            "  inflating: NSL-KDD/KDDTrain1.jpg   \n",
            "  inflating: NSL-KDD/KDDTrain+.arff  \n",
            "  inflating: NSL-KDD/KDDTrain+.txt   \n",
            "  inflating: NSL-KDD/KDDTrain+_20Percent.arff  \n",
            "  inflating: NSL-KDD/KDDTrain+_20Percent.txt  \n"
          ],
          "name": "stdout"
        }
      ]
    },
    {
      "cell_type": "markdown",
      "metadata": {
        "id": "NZEBgnPxJW6j"
      },
      "source": [
        "### Removing unused features"
      ]
    },
    {
      "cell_type": "code",
      "metadata": {
        "id": "ckN7Jw_OJdTN"
      },
      "source": [
        "# Drop the last column (which might be the difficulty, so it's useless)\n",
        "data.drop('43 Difficulty', inplace=True, axis=1)\n",
        "# Drop the 19th column wich is full of 0, so has std=0. which causes issues for the normalization\n",
        "data.drop('20 Num-outbound-cmds', inplace=True, axis=1)"
      ],
      "execution_count": null,
      "outputs": []
    },
    {
      "cell_type": "markdown",
      "metadata": {
        "id": "YhAWbR2BJsms"
      },
      "source": [
        "### Transforming the problem into binary clasification"
      ]
    },
    {
      "cell_type": "code",
      "metadata": {
        "id": "Ps4JWj7hJ0j-"
      },
      "source": [
        "# Transform the nominal attribute \"Attack type\" into binary (0 : normal / 1 : attack)\n",
        "labels = (data['42 Attack_type'] != 'normal').astype('int64')\n",
        "data['42 Labels'] = labels\n",
        "data.drop('42 Attack_type', inplace=True, axis=1)"
      ],
      "execution_count": null,
      "outputs": []
    },
    {
      "cell_type": "markdown",
      "metadata": {
        "id": "IY72JDkDJ8fZ"
      },
      "source": [
        "### One Hot Encoding the categorical features"
      ]
    },
    {
      "cell_type": "code",
      "metadata": {
        "id": "VqLzA5xzKE6S"
      },
      "source": [
        "# One Hot Encode the 3 first nominal attributes and drop them\n",
        "for i in ['4 Flag : ', '3 Service : ', '2 Protocol-type : ']:\n",
        "    # Create the One Hot Encode DataFrame\n",
        "    dum = pd.get_dummies(data[i])\n",
        "    # Insert into the dataset DataFrame by Series\n",
        "    for column_name in list(dum.columns):\n",
        "        data.insert(1, str(i)+column_name, dum[column_name])\n",
        "        data[str(i)+column_name] = data[str(i)+column_name].astype('int64')\n",
        "    # Drop the old attribute's column\n",
        "    data.drop(i, inplace=True, axis=1)"
      ],
      "execution_count": null,
      "outputs": []
    },
    {
      "cell_type": "markdown",
      "metadata": {
        "id": "ofSVMjNSKYPp"
      },
      "source": [
        "### Spliting the training and test set "
      ]
    },
    {
      "cell_type": "code",
      "metadata": {
        "id": "_zJU5gyGKcEB"
      },
      "source": [
        "# Split training and test sets\n",
        "df_training = data[:df_training.shape[0]]    \n",
        "df_testing = data[df_training.shape[0]:]"
      ],
      "execution_count": null,
      "outputs": []
    },
    {
      "cell_type": "markdown",
      "metadata": {
        "id": "QsjviwI7KIc1"
      },
      "source": [
        "### Normalizing the data using Min-Max"
      ]
    },
    {
      "cell_type": "code",
      "metadata": {
        "id": "TuDGFomBKP1l",
        "colab": {
          "base_uri": "https://localhost:8080/"
        },
        "outputId": "e449cf0a-8fb3-4e3b-b066-f11a4b942e92"
      },
      "source": [
        "# Min-Max normalization on the non binary features\n",
        "for i in ['1 Duration', '5 Src-bytes', '6 Dst-bytes', '8 Wrong-fragment', '9 Urgent', '10 Hot', '11 Num-failed-logins', '13 Num-compromised', '15 Su-attempted', '16 Num-root', '17 Num-file-creations', '18 Num-shells', '19 Num-access-files', '23 Count', '24 Srv-count', '25 Serror-rate', '26 Srv-serror-rate', '27 Rerror-rate', '28 Srv-rerror-rate', '29 Same-srv-rate', '30 Diff-srv-rate', '31 Srv-diff-host-rate', '32 Dst-host-count', '33 Dst-host-srv-count', '34 Dst-host-same-srv-rate', '35 Dst-host-diff-srv-rate', '36 Dst-host-same-src-port-rate', '37 Dst-host-srv-diff-host-rate', '38 Dst-host-serror-rate', '39 Dst-host-srv-serror-rate', '40 Dst-host-rerror-rate', '41 Dst-host-srv-rerror-rate']:\n",
        "    # The min and max are only computed from the training set\n",
        "    min_val = df_training[i].min()\n",
        "    max_val = df_training[i].max()\n",
        "    df_training[i] = ((df_training[i] - min_val) / (max_val - min_val)) \n",
        "    df_testing[i] = ((df_testing[i] - min_val) / (max_val - min_val)) "
      ],
      "execution_count": null,
      "outputs": [
        {
          "output_type": "stream",
          "text": [
            "/usr/local/lib/python3.7/dist-packages/ipykernel_launcher.py:6: SettingWithCopyWarning: \n",
            "A value is trying to be set on a copy of a slice from a DataFrame.\n",
            "Try using .loc[row_indexer,col_indexer] = value instead\n",
            "\n",
            "See the caveats in the documentation: https://pandas.pydata.org/pandas-docs/stable/user_guide/indexing.html#returning-a-view-versus-a-copy\n",
            "  \n",
            "/usr/local/lib/python3.7/dist-packages/ipykernel_launcher.py:7: SettingWithCopyWarning: \n",
            "A value is trying to be set on a copy of a slice from a DataFrame.\n",
            "Try using .loc[row_indexer,col_indexer] = value instead\n",
            "\n",
            "See the caveats in the documentation: https://pandas.pydata.org/pandas-docs/stable/user_guide/indexing.html#returning-a-view-versus-a-copy\n",
            "  import sys\n"
          ],
          "name": "stderr"
        }
      ]
    },
    {
      "cell_type": "markdown",
      "metadata": {
        "id": "stMNv0C-Lw5V"
      },
      "source": [
        "### Convert the training and testing set into NumPy array"
      ]
    },
    {
      "cell_type": "code",
      "metadata": {
        "id": "8Pa51jRiL39N"
      },
      "source": [
        "# Get NumPy arrays from DataFrames\n",
        "nd_training = df_training.values\n",
        "nd_testing = df_testing.values"
      ],
      "execution_count": null,
      "outputs": []
    },
    {
      "cell_type": "markdown",
      "metadata": {
        "id": "fhhq7PClMAZN"
      },
      "source": [
        "### Extracting the labels and making copies"
      ]
    },
    {
      "cell_type": "code",
      "metadata": {
        "id": "o8qQrNKVMExe"
      },
      "source": [
        "# Separating arguments (x) from lables (y)\n",
        "x_train = nd_training[:, :-1]\n",
        "y_train = nd_training[:, -1]\n",
        "x_test = nd_testing[:, :-1]\n",
        "y_test = nd_testing[:, -1]\n",
        "\n",
        "# Make a copy of the data set as NumPy arrays\n",
        "x_train_np = x_train.copy()\n",
        "y_train_np = y_train.copy()\n",
        "x_test_np = x_test.copy()\n",
        "y_test_np = y_test.copy()"
      ],
      "execution_count": null,
      "outputs": []
    },
    {
      "cell_type": "markdown",
      "metadata": {
        "id": "FaHQn0KBMJgz"
      },
      "source": [
        "## Neural Network Model Training"
      ]
    },
    {
      "cell_type": "markdown",
      "metadata": {
        "id": "DX40cQe1MQ0H"
      },
      "source": [
        "### Convert the training and testing set into TensorFlow tensors"
      ]
    },
    {
      "cell_type": "code",
      "metadata": {
        "id": "rWCO_RxSb9_C"
      },
      "source": [
        "y_ohe_train = y_train_np.copy()\n",
        "y_ohe_test = y_test_np.copy()\n",
        "y_ohe_train = pd.get_dummies(y_ohe_train)\n",
        "y_ohe_test = pd.get_dummies(y_ohe_test)\n",
        "\n",
        "with tf.device(device_name=device):\n",
        "  x_train = tf.convert_to_tensor(x_train, np.float32)\n",
        "  x_test = tf.convert_to_tensor(x_test, np.float32)\n",
        "  y_ohe_train = tf.convert_to_tensor(y_ohe_train, np.float32)\n",
        "  y_ohe_test = tf.convert_to_tensor(y_ohe_test, np.float32)"
      ],
      "execution_count": null,
      "outputs": []
    },
    {
      "cell_type": "markdown",
      "metadata": {
        "id": "NtWXR5RaO40r"
      },
      "source": [
        "### Define a neural network with 3 ReLU layers and a Softmax output\n",
        "\n",
        "\n"
      ]
    },
    {
      "cell_type": "code",
      "metadata": {
        "id": "DYpAWtD8bioT"
      },
      "source": [
        "neuron_number = 256 # How many neuron for each hidden layer\n",
        "output_number = 2 # How many output neurons\n",
        "features_number = x_train.shape[1] # How many features in the input\n",
        "with tf.device(device_name=device):\n",
        "  model = tf.keras.Sequential(layers=[\n",
        "      tf.keras.layers.Dense(neuron_number, input_shape=(features_number,), activation=\"relu\"), # input = features_number, output = 256\n",
        "      tf.keras.layers.Dense(neuron_number, activation=\"relu\"), # input = 256 (implied), output = 256\n",
        "      tf.keras.layers.Dense(neuron_number, activation=\"relu\"), # input = 256 (implied), output = 256\n",
        "      tf.keras.layers.Dense(output_number, activation=\"softmax\") # input = 256 (implied), output = 2\n",
        "  ])"
      ],
      "execution_count": null,
      "outputs": []
    },
    {
      "cell_type": "markdown",
      "metadata": {
        "id": "iBO2uZVxPmEJ"
      },
      "source": [
        "### Train the model"
      ]
    },
    {
      "cell_type": "code",
      "metadata": {
        "id": "xHA_5qGMPk45",
        "colab": {
          "base_uri": "https://localhost:8080/"
        },
        "outputId": "fd4a5c05-1278-4c58-8a45-d5cf03d248d5"
      },
      "source": [
        "eval_metric = 'categorical_accuracy'\n",
        "lr = 0.01\n",
        "optim = tf.keras.optimizers.Adam(learning_rate=lr)\n",
        "loss_fn = tf.keras.losses.CategoricalCrossentropy()\n",
        "model.compile(optimizer=optim,\n",
        "              loss=loss_fn,\n",
        "              metrics=[eval_metric])\n",
        "\n",
        "best_value = 0.0 # Best evaluation metrics on test dataset\n",
        "best_testing_model_file = \"./best_model_testing\"\n",
        "\n",
        "# Iterrating on the dataset\n",
        "for i in range(10):\n",
        "  print(\"Iteration {}, best value is {}\".format(str(i), str(best_value)))\n",
        "  model.fit(x=x_train, y=y_ohe_train, epochs=10, batch_size=100)\n",
        "  eval_metrics = model.evaluate(x_test, y_ohe_test, verbose=2)\n",
        "  eval_value = eval_metrics[model.metrics_names.index(eval_metric)]\n",
        "  if eval_value > best_value:\n",
        "    best_value = eval_value\n",
        "    tf.keras.models.save_model(model, best_testing_model_file)\n",
        "\n",
        "model = tf.keras.models.load_model(best_testing_model_file)\n",
        "model.evaluate(x_test, y_ohe_test, verbose=2)"
      ],
      "execution_count": null,
      "outputs": [
        {
          "output_type": "stream",
          "text": [
            "Iteration 0, best value is 0.0\n",
            "Epoch 1/10\n",
            "252/252 [==============================] - 2s 7ms/step - loss: 0.0754 - categorical_accuracy: 0.9740\n",
            "Epoch 2/10\n",
            "252/252 [==============================] - 2s 6ms/step - loss: 0.0413 - categorical_accuracy: 0.9848\n",
            "Epoch 3/10\n",
            "252/252 [==============================] - 2s 6ms/step - loss: 0.0352 - categorical_accuracy: 0.9865\n",
            "Epoch 4/10\n",
            "252/252 [==============================] - 2s 6ms/step - loss: 0.0321 - categorical_accuracy: 0.9890\n",
            "Epoch 5/10\n",
            "252/252 [==============================] - 2s 6ms/step - loss: 0.0269 - categorical_accuracy: 0.9907\n",
            "Epoch 6/10\n",
            "252/252 [==============================] - 2s 6ms/step - loss: 0.0215 - categorical_accuracy: 0.9923\n",
            "Epoch 7/10\n",
            "252/252 [==============================] - 2s 6ms/step - loss: 0.0204 - categorical_accuracy: 0.9926\n",
            "Epoch 8/10\n",
            "252/252 [==============================] - 2s 6ms/step - loss: 0.0202 - categorical_accuracy: 0.9925\n",
            "Epoch 9/10\n",
            "252/252 [==============================] - 2s 6ms/step - loss: 0.0192 - categorical_accuracy: 0.9931\n",
            "Epoch 10/10\n",
            "252/252 [==============================] - 1s 6ms/step - loss: 0.0185 - categorical_accuracy: 0.9927\n",
            "705/705 - 1s - loss: 2.3547 - categorical_accuracy: 0.7810\n",
            "INFO:tensorflow:Assets written to: ./best_model_testing/assets\n",
            "Iteration 1, best value is 0.7809616923332214\n",
            "Epoch 1/10\n",
            "252/252 [==============================] - 2s 6ms/step - loss: 0.0276 - categorical_accuracy: 0.9917\n",
            "Epoch 2/10\n",
            "252/252 [==============================] - 2s 6ms/step - loss: 0.0191 - categorical_accuracy: 0.9936\n",
            "Epoch 3/10\n",
            "252/252 [==============================] - 2s 6ms/step - loss: 0.0162 - categorical_accuracy: 0.9941\n",
            "Epoch 4/10\n",
            "252/252 [==============================] - 2s 6ms/step - loss: 0.0187 - categorical_accuracy: 0.9941\n",
            "Epoch 5/10\n",
            "252/252 [==============================] - 2s 6ms/step - loss: 0.0144 - categorical_accuracy: 0.9948\n",
            "Epoch 6/10\n",
            "252/252 [==============================] - 2s 6ms/step - loss: 0.0132 - categorical_accuracy: 0.9953\n",
            "Epoch 7/10\n",
            "252/252 [==============================] - 2s 6ms/step - loss: 0.0136 - categorical_accuracy: 0.9946\n",
            "Epoch 8/10\n",
            "252/252 [==============================] - 2s 6ms/step - loss: 0.0121 - categorical_accuracy: 0.9953\n",
            "Epoch 9/10\n",
            "252/252 [==============================] - 2s 6ms/step - loss: 0.0121 - categorical_accuracy: 0.9957\n",
            "Epoch 10/10\n",
            "252/252 [==============================] - 2s 6ms/step - loss: 0.0166 - categorical_accuracy: 0.9940\n",
            "705/705 - 1s - loss: 2.6378 - categorical_accuracy: 0.7891\n",
            "INFO:tensorflow:Assets written to: ./best_model_testing/assets\n",
            "Iteration 2, best value is 0.7891234755516052\n",
            "Epoch 1/10\n",
            "252/252 [==============================] - 2s 6ms/step - loss: 0.0457 - categorical_accuracy: 0.9924\n",
            "Epoch 2/10\n",
            "252/252 [==============================] - 2s 6ms/step - loss: 0.0133 - categorical_accuracy: 0.9948\n",
            "Epoch 3/10\n",
            "252/252 [==============================] - 2s 6ms/step - loss: 0.0125 - categorical_accuracy: 0.9954\n",
            "Epoch 4/10\n",
            "252/252 [==============================] - 2s 6ms/step - loss: 0.0143 - categorical_accuracy: 0.9951\n",
            "Epoch 5/10\n",
            "252/252 [==============================] - 2s 6ms/step - loss: 0.0119 - categorical_accuracy: 0.9960\n",
            "Epoch 6/10\n",
            "252/252 [==============================] - 2s 6ms/step - loss: 0.0117 - categorical_accuracy: 0.9960\n",
            "Epoch 7/10\n",
            "252/252 [==============================] - 2s 6ms/step - loss: 0.0100 - categorical_accuracy: 0.9964\n",
            "Epoch 8/10\n",
            "252/252 [==============================] - 2s 6ms/step - loss: 0.0109 - categorical_accuracy: 0.9963\n",
            "Epoch 9/10\n",
            "252/252 [==============================] - 2s 6ms/step - loss: 0.0106 - categorical_accuracy: 0.9962\n",
            "Epoch 10/10\n",
            "252/252 [==============================] - 2s 6ms/step - loss: 0.0125 - categorical_accuracy: 0.9956\n",
            "705/705 - 1s - loss: 5.7406 - categorical_accuracy: 0.7921\n",
            "INFO:tensorflow:Assets written to: ./best_model_testing/assets\n",
            "Iteration 3, best value is 0.7920954823493958\n",
            "Epoch 1/10\n",
            "252/252 [==============================] - 2s 6ms/step - loss: 0.0113 - categorical_accuracy: 0.9961\n",
            "Epoch 2/10\n",
            "252/252 [==============================] - 2s 6ms/step - loss: 0.0103 - categorical_accuracy: 0.9961\n",
            "Epoch 3/10\n",
            "252/252 [==============================] - 2s 7ms/step - loss: 0.0160 - categorical_accuracy: 0.9958\n",
            "Epoch 4/10\n",
            "252/252 [==============================] - 2s 6ms/step - loss: 0.0117 - categorical_accuracy: 0.9960\n",
            "Epoch 5/10\n",
            "252/252 [==============================] - 2s 6ms/step - loss: 0.0104 - categorical_accuracy: 0.9965\n",
            "Epoch 6/10\n",
            "252/252 [==============================] - 2s 6ms/step - loss: 0.0112 - categorical_accuracy: 0.9966\n",
            "Epoch 7/10\n",
            "252/252 [==============================] - 2s 6ms/step - loss: 0.0083 - categorical_accuracy: 0.9967\n",
            "Epoch 8/10\n",
            "252/252 [==============================] - 2s 6ms/step - loss: 0.0076 - categorical_accuracy: 0.9972\n",
            "Epoch 9/10\n",
            "252/252 [==============================] - 2s 6ms/step - loss: 0.0121 - categorical_accuracy: 0.9954\n",
            "Epoch 10/10\n",
            "252/252 [==============================] - 2s 6ms/step - loss: 0.0092 - categorical_accuracy: 0.9966\n",
            "705/705 - 1s - loss: 7.4815 - categorical_accuracy: 0.7932\n",
            "INFO:tensorflow:Assets written to: ./best_model_testing/assets\n",
            "Iteration 4, best value is 0.7932487726211548\n",
            "Epoch 1/10\n",
            "252/252 [==============================] - 2s 6ms/step - loss: 0.0095 - categorical_accuracy: 0.9963\n",
            "Epoch 2/10\n",
            "252/252 [==============================] - 2s 6ms/step - loss: 0.0105 - categorical_accuracy: 0.9965\n",
            "Epoch 3/10\n",
            "252/252 [==============================] - 2s 6ms/step - loss: 0.0137 - categorical_accuracy: 0.9954\n",
            "Epoch 4/10\n",
            "252/252 [==============================] - 2s 6ms/step - loss: 0.0102 - categorical_accuracy: 0.9963\n",
            "Epoch 5/10\n",
            "252/252 [==============================] - 2s 6ms/step - loss: 0.0085 - categorical_accuracy: 0.9973\n",
            "Epoch 6/10\n",
            "252/252 [==============================] - 2s 6ms/step - loss: 0.0068 - categorical_accuracy: 0.9975\n",
            "Epoch 7/10\n",
            "252/252 [==============================] - 2s 6ms/step - loss: 0.0113 - categorical_accuracy: 0.9958\n",
            "Epoch 8/10\n",
            "252/252 [==============================] - 2s 6ms/step - loss: 0.0097 - categorical_accuracy: 0.9965\n",
            "Epoch 9/10\n",
            "252/252 [==============================] - 2s 6ms/step - loss: 0.0087 - categorical_accuracy: 0.9968\n",
            "Epoch 10/10\n",
            "252/252 [==============================] - 2s 6ms/step - loss: 0.0084 - categorical_accuracy: 0.9969\n",
            "705/705 - 1s - loss: 5.9139 - categorical_accuracy: 0.8041\n",
            "INFO:tensorflow:Assets written to: ./best_model_testing/assets\n",
            "Iteration 5, best value is 0.8041163682937622\n",
            "Epoch 1/10\n",
            "252/252 [==============================] - 2s 7ms/step - loss: 0.0074 - categorical_accuracy: 0.9971\n",
            "Epoch 2/10\n",
            "252/252 [==============================] - 2s 6ms/step - loss: 0.0076 - categorical_accuracy: 0.9971\n",
            "Epoch 3/10\n",
            "252/252 [==============================] - 2s 6ms/step - loss: 0.0083 - categorical_accuracy: 0.9969\n",
            "Epoch 4/10\n",
            "252/252 [==============================] - 2s 6ms/step - loss: 0.0189 - categorical_accuracy: 0.9969\n",
            "Epoch 5/10\n",
            "252/252 [==============================] - 2s 6ms/step - loss: 0.0106 - categorical_accuracy: 0.9964\n",
            "Epoch 6/10\n",
            "252/252 [==============================] - 2s 6ms/step - loss: 0.0074 - categorical_accuracy: 0.9971\n",
            "Epoch 7/10\n",
            "252/252 [==============================] - 2s 6ms/step - loss: 0.0179 - categorical_accuracy: 0.9962\n",
            "Epoch 8/10\n",
            "252/252 [==============================] - 2s 6ms/step - loss: 0.0259 - categorical_accuracy: 0.9944\n",
            "Epoch 9/10\n",
            "252/252 [==============================] - 2s 6ms/step - loss: 0.0096 - categorical_accuracy: 0.9966\n",
            "Epoch 10/10\n",
            "252/252 [==============================] - 2s 6ms/step - loss: 0.0081 - categorical_accuracy: 0.9972\n",
            "705/705 - 1s - loss: 5.6491 - categorical_accuracy: 0.8013\n",
            "Iteration 6, best value is 0.8041163682937622\n",
            "Epoch 1/10\n",
            "252/252 [==============================] - 2s 6ms/step - loss: 0.0069 - categorical_accuracy: 0.9972\n",
            "Epoch 2/10\n",
            "252/252 [==============================] - 2s 6ms/step - loss: 0.0074 - categorical_accuracy: 0.9973\n",
            "Epoch 3/10\n",
            "252/252 [==============================] - 2s 6ms/step - loss: 0.0105 - categorical_accuracy: 0.9965\n",
            "Epoch 4/10\n",
            "252/252 [==============================] - 2s 6ms/step - loss: 0.0134 - categorical_accuracy: 0.9961\n",
            "Epoch 5/10\n",
            "252/252 [==============================] - 2s 6ms/step - loss: 0.0101 - categorical_accuracy: 0.9963\n",
            "Epoch 6/10\n",
            "252/252 [==============================] - 2s 6ms/step - loss: 0.0067 - categorical_accuracy: 0.9974\n",
            "Epoch 7/10\n",
            "252/252 [==============================] - 2s 6ms/step - loss: 0.0069 - categorical_accuracy: 0.9973\n",
            "Epoch 8/10\n",
            "252/252 [==============================] - 2s 6ms/step - loss: 0.0086 - categorical_accuracy: 0.9973\n",
            "Epoch 9/10\n",
            "252/252 [==============================] - 2s 6ms/step - loss: 0.0075 - categorical_accuracy: 0.9969\n",
            "Epoch 10/10\n",
            "252/252 [==============================] - 2s 6ms/step - loss: 0.0081 - categorical_accuracy: 0.9968\n",
            "705/705 - 1s - loss: 6.9619 - categorical_accuracy: 0.8039\n",
            "Iteration 7, best value is 0.8041163682937622\n",
            "Epoch 1/10\n",
            "252/252 [==============================] - 2s 6ms/step - loss: 0.0074 - categorical_accuracy: 0.9975\n",
            "Epoch 2/10\n",
            "252/252 [==============================] - 2s 6ms/step - loss: 0.0492 - categorical_accuracy: 0.9963\n",
            "Epoch 3/10\n",
            "252/252 [==============================] - 2s 6ms/step - loss: 0.0127 - categorical_accuracy: 0.9963\n",
            "Epoch 4/10\n",
            "252/252 [==============================] - 2s 6ms/step - loss: 0.0260 - categorical_accuracy: 0.9960\n",
            "Epoch 5/10\n",
            "252/252 [==============================] - 2s 6ms/step - loss: 0.0121 - categorical_accuracy: 0.9968\n",
            "Epoch 6/10\n",
            "252/252 [==============================] - 2s 6ms/step - loss: 0.0076 - categorical_accuracy: 0.9973\n",
            "Epoch 7/10\n",
            "252/252 [==============================] - 2s 6ms/step - loss: 0.0072 - categorical_accuracy: 0.9973\n",
            "Epoch 8/10\n",
            "252/252 [==============================] - 2s 6ms/step - loss: 0.0085 - categorical_accuracy: 0.9969\n",
            "Epoch 9/10\n",
            "252/252 [==============================] - 2s 6ms/step - loss: 0.0067 - categorical_accuracy: 0.9972\n",
            "Epoch 10/10\n",
            "252/252 [==============================] - 2s 7ms/step - loss: 0.0076 - categorical_accuracy: 0.9970\n",
            "705/705 - 1s - loss: 16.6673 - categorical_accuracy: 0.7976\n",
            "Iteration 8, best value is 0.8041163682937622\n",
            "Epoch 1/10\n",
            "252/252 [==============================] - 2s 6ms/step - loss: 0.0115 - categorical_accuracy: 0.9969\n",
            "Epoch 2/10\n",
            "252/252 [==============================] - 2s 6ms/step - loss: 0.0092 - categorical_accuracy: 0.9969\n",
            "Epoch 3/10\n",
            "252/252 [==============================] - 2s 6ms/step - loss: 0.0083 - categorical_accuracy: 0.9967\n",
            "Epoch 4/10\n",
            "252/252 [==============================] - 2s 6ms/step - loss: 0.0074 - categorical_accuracy: 0.9972\n",
            "Epoch 5/10\n",
            "252/252 [==============================] - 2s 7ms/step - loss: 0.0069 - categorical_accuracy: 0.9974\n",
            "Epoch 6/10\n",
            "252/252 [==============================] - 2s 6ms/step - loss: 0.0065 - categorical_accuracy: 0.9976\n",
            "Epoch 7/10\n",
            "252/252 [==============================] - 2s 7ms/step - loss: 0.0061 - categorical_accuracy: 0.9976\n",
            "Epoch 8/10\n",
            "252/252 [==============================] - 2s 6ms/step - loss: 0.0076 - categorical_accuracy: 0.9971\n",
            "Epoch 9/10\n",
            "252/252 [==============================] - 2s 6ms/step - loss: 0.0069 - categorical_accuracy: 0.9974\n",
            "Epoch 10/10\n",
            "252/252 [==============================] - 2s 6ms/step - loss: 0.0071 - categorical_accuracy: 0.9972\n",
            "705/705 - 1s - loss: 19.1443 - categorical_accuracy: 0.7891\n",
            "Iteration 9, best value is 0.8041163682937622\n",
            "Epoch 1/10\n",
            "252/252 [==============================] - 2s 6ms/step - loss: 0.0068 - categorical_accuracy: 0.9973\n",
            "Epoch 2/10\n",
            "252/252 [==============================] - 2s 6ms/step - loss: 0.0185 - categorical_accuracy: 0.9966\n",
            "Epoch 3/10\n",
            "252/252 [==============================] - 2s 6ms/step - loss: 0.0095 - categorical_accuracy: 0.9966\n",
            "Epoch 4/10\n",
            "252/252 [==============================] - 2s 6ms/step - loss: 0.0086 - categorical_accuracy: 0.9969\n",
            "Epoch 5/10\n",
            "252/252 [==============================] - 2s 6ms/step - loss: 0.0100 - categorical_accuracy: 0.9971\n",
            "Epoch 6/10\n",
            "252/252 [==============================] - 2s 7ms/step - loss: 0.0071 - categorical_accuracy: 0.9974\n",
            "Epoch 7/10\n",
            "252/252 [==============================] - 2s 7ms/step - loss: 0.0068 - categorical_accuracy: 0.9973\n",
            "Epoch 8/10\n",
            "252/252 [==============================] - 2s 6ms/step - loss: 0.0072 - categorical_accuracy: 0.9974\n",
            "Epoch 9/10\n",
            "252/252 [==============================] - 2s 7ms/step - loss: 0.0069 - categorical_accuracy: 0.9973\n",
            "Epoch 10/10\n",
            "252/252 [==============================] - 2s 6ms/step - loss: 0.0069 - categorical_accuracy: 0.9971\n",
            "705/705 - 1s - loss: 18.6303 - categorical_accuracy: 0.8002\n",
            "705/705 - 1s - loss: 5.9139 - categorical_accuracy: 0.8041\n"
          ],
          "name": "stdout"
        },
        {
          "output_type": "execute_result",
          "data": {
            "text/plain": [
              "[5.913880348205566, 0.8041163682937622]"
            ]
          },
          "metadata": {},
          "execution_count": 13
        }
      ]
    },
    {
      "cell_type": "markdown",
      "metadata": {
        "id": "A2yiT2olRN9F"
      },
      "source": [
        "## Adversarial Attacks"
      ]
    },
    {
      "cell_type": "markdown",
      "metadata": {
        "id": "AhcKW1IMSVVz"
      },
      "source": [
        "### Prepare the datasets"
      ]
    },
    {
      "cell_type": "code",
      "metadata": {
        "id": "nd0DrvF57B5K"
      },
      "source": [
        "#values_copy = df_training.copy().values\n",
        "#y_ohe_test = y_train_np.copy()\n",
        "values_copy = df_testing.copy().values\n",
        "y_ohe_test = y_test_np.copy()\n",
        "y_ohe_test = pd.get_dummies(y_ohe_test)\n",
        "\n",
        "x_test = values_copy[:, :-1]\n",
        "y_test = y_ohe_test.values"
      ],
      "execution_count": null,
      "outputs": []
    },
    {
      "cell_type": "markdown",
      "metadata": {
        "id": "ugfmnV21LNEx"
      },
      "source": [
        "### Define the model in ART"
      ]
    },
    {
      "cell_type": "code",
      "metadata": {
        "id": "tOPhKGp2LM23"
      },
      "source": [
        "# Applying the TensorFlow wrapper\n",
        "lr = 0.01\n",
        "loss_fn = tf.keras.losses.CategoricalCrossentropy()\n",
        "classifier = TensorFlowV2Classifier(model=model, loss_object=loss_fn, input_shape=(x_train.shape[1],), nb_classes=2)"
      ],
      "execution_count": null,
      "outputs": []
    },
    {
      "cell_type": "markdown",
      "metadata": {
        "id": "x_TFB2IcSk0d"
      },
      "source": [
        "### Clean Data"
      ]
    },
    {
      "cell_type": "code",
      "metadata": {
        "id": "ofkaYZoYSpwG",
        "colab": {
          "base_uri": "https://localhost:8080/"
        },
        "outputId": "2eec7abc-e9d7-4cac-ed0b-5293e0b27f75"
      },
      "source": [
        "# Evaluation the model against clean examples\n",
        "model.evaluate(x=x_test, y=y_test, verbose=2)\n",
        "\n",
        "# Exporting the clean examples in a .pkl file\n",
        "with open(\"clean_train.pkl\", \"wb\") as f:\n",
        "  pkl.dump(x_test, f)"
      ],
      "execution_count": null,
      "outputs": [
        {
          "output_type": "stream",
          "text": [
            "705/705 - 1s - loss: 5.9139 - categorical_accuracy: 0.8041\n"
          ],
          "name": "stdout"
        }
      ]
    },
    {
      "cell_type": "markdown",
      "metadata": {
        "id": "_L4sJYvbTF-Y"
      },
      "source": [
        "### Fast Gradient Sign Method (FGSM)"
      ]
    },
    {
      "cell_type": "code",
      "metadata": {
        "id": "1DKFhHZnTkyk",
        "colab": {
          "base_uri": "https://localhost:8080/"
        },
        "outputId": "1282b259-0697-4eb9-a404-6056e4c2d976"
      },
      "source": [
        "# Creating the adversarial examples crafter\n",
        "adversarial_crafter = FastGradientMethod(classifier,\n",
        "                                         norm=np.inf,\n",
        "                                         eps=0.1,\n",
        "                                         targeted=False,\n",
        "                                         num_random_init=100,\n",
        "                                         batch_size=128)\n",
        "\n",
        "# Generating the adversarial examples\n",
        "adversarial_examples = adversarial_crafter.generate(x=x_test, y=y_test)\n",
        "with tf.device(device_name=device):\n",
        "  adversarial_examples = tf.convert_to_tensor(adversarial_examples, np.float32)\n",
        "\n",
        "# Evaluating the model against the adversarial examples\n",
        "model.evaluate(x=adversarial_examples, y=y_test, verbose=2)\n",
        "\n",
        "# Exporting the adversarial examples in a .pkl file\n",
        "with open(\"FGSM_train.pkl\", \"wb\") as f:\n",
        "  pkl.dump(adversarial_examples, f)"
      ],
      "execution_count": null,
      "outputs": [
        {
          "output_type": "stream",
          "text": [
            "705/705 - 1s - loss: 81.4041 - categorical_accuracy: 0.4055\n"
          ],
          "name": "stdout"
        }
      ]
    },
    {
      "cell_type": "markdown",
      "metadata": {
        "id": "b_WWiPeS1r1z"
      },
      "source": [
        "### Projected Gradient Descent (PGD)"
      ]
    },
    {
      "cell_type": "code",
      "metadata": {
        "id": "fiwjqWDP1uqP",
        "colab": {
          "base_uri": "https://localhost:8080/",
          "height": 34,
          "referenced_widgets": [
            "e48015ce700c4398a26f847f93593ec1",
            "073d05f42a6d4afd938652c800152190",
            "f28023c493c34e9abe5bdbfb2d6350b6",
            "0f2332d4a7844d8280829932c34b44e1",
            "4989844b23e04a6facf9948da04d7abc",
            "146e54e22cda4466b6e29db041e4c3a0",
            "3e123f7ef3fb46318dab74d8fbcf7623",
            "390be40de66049d1897d9b6ccd03d217",
            "d4490fa04af44a348deeabacadacdcbc",
            "a7492c29745a489696e20a457856417b",
            "e8f47a7906c44400881c526a3ea31465"
          ]
        },
        "outputId": "978500bf-cdbd-46e0-87a9-ee4cc5001431"
      },
      "source": [
        "# Creating the adversarial examples crafter\n",
        "adversarial_crafter = ProjectedGradientDescentTensorFlowV2(classifier,\n",
        "                                                           norm=np.inf,\n",
        "                                                           eps=0.1,\n",
        "                                                           eps_step=0.001,\n",
        "                                                           max_iter=100,\n",
        "                                                           targeted=False,\n",
        "                                                           batch_size=128,\n",
        "                                                           verbose=True)\n",
        "\n",
        "# Generating the adversarial examples\n",
        "adversarial_examples = adversarial_crafter.generate(x=x_test, y=y_test)\n",
        "with tf.device(device_name=device):\n",
        "  adversarial_examples = tf.convert_to_tensor(adversarial_examples, np.float32)\n",
        "\n",
        "# Evaluating the model against the adversarial examples\n",
        "model.evaluate(x=adversarial_examples, y=y_test, verbose=2)\n",
        "\n",
        "# Exporting the adversarial examples in a .pkl file\n",
        "with open(\"PGD_train.pkl\", \"wb\") as f:\n",
        "  pkl.dump(adversarial_examples, f)"
      ],
      "execution_count": null,
      "outputs": [
        {
          "output_type": "display_data",
          "data": {
            "application/vnd.jupyter.widget-view+json": {
              "model_id": "e48015ce700c4398a26f847f93593ec1",
              "version_minor": 0,
              "version_major": 2
            },
            "text/plain": [
              "PGD - Batches: 0it [00:00, ?it/s]"
            ]
          },
          "metadata": {}
        },
        {
          "output_type": "stream",
          "text": [
            "705/705 - 1s - loss: 139.2753 - categorical_accuracy: 0.3275\n"
          ],
          "name": "stdout"
        }
      ]
    },
    {
      "cell_type": "markdown",
      "metadata": {
        "id": "Wpjvuo_LZTGh"
      },
      "source": [
        "### Carlini & Wagner (CW)"
      ]
    },
    {
      "cell_type": "code",
      "metadata": {
        "id": "8G0CIFD1Zcex",
        "colab": {
          "base_uri": "https://localhost:8080/",
          "referenced_widgets": [
            "555ada8d611f4e109d027495229efe24",
            "08415b6987a640ff9d39967be79845e9",
            "b660d95b106a41d2be9b59ea33811343",
            "2d14de1ae6814099a57234939a3030d0",
            "9fd5dcb556754d0cbaa3e0096b0aa1a8",
            "8bf05f9d0a4a49ce9f9e94d55845ed77",
            "f4fd17a2fa77460ea483b111421f5016",
            "14cc0c3387d94b87bfa668ef3398c5ef",
            "cda2f070b7554b9a815153ba299be148",
            "b9cf5e2941fd4f10925a186d8cf816e0",
            "21e232312dde41388481ba2701b817da"
          ]
        },
        "outputId": "bf40fa6a-b32d-4ce8-c3e3-6e9f01edca58"
      },
      "source": [
        "# Creating the adversarial examples crafter\n",
        "adversarial_crafter = CarliniL2Method(classifier,\n",
        "                                      confidence=0.3,\n",
        "                                      targeted=False,\n",
        "                                      learning_rate=1,\n",
        "                                      binary_search_steps=45,\n",
        "                                      max_iter=10,\n",
        "                                      initial_const=0.01,\n",
        "                                      max_halving=5,\n",
        "                                      max_doubling=5,\n",
        "                                      batch_size=128)\n",
        "\n",
        "# Generating the adversarial examples\n",
        "adversarial_examples = adversarial_crafter.generate(x=x_test, y=y_test)\n",
        "\n",
        "# The transformation to tanh space introduce some small perturbation, we remove it to get the exact statistics\n",
        "adversarial_examples = pd.DataFrame(adversarial_examples)\n",
        "adversarial_examples[(np.abs(adversarial_examples - x_test) < 10e-6)] = x_test\n",
        "adversarial_examples = adversarial_examples.values\n",
        "\n",
        "with tf.device(device_name=device):\n",
        "  adversarial_examples = tf.convert_to_tensor(adversarial_examples, np.float32)\n",
        "\n",
        "# Evaluating the model against the adversarial examples\n",
        "model.evaluate(x=adversarial_examples, y=y_test, verbose=2)\n",
        "\n",
        "# Exporting the adversarial examples in a .pkl file\n",
        "with open(\"CW_train.pkl\", \"wb\") as f:\n",
        "  pkl.dump(adversarial_examples, f)"
      ],
      "execution_count": null,
      "outputs": [
        {
          "output_type": "display_data",
          "data": {
            "application/vnd.jupyter.widget-view+json": {
              "model_id": "555ada8d611f4e109d027495229efe24",
              "version_minor": 0,
              "version_major": 2
            },
            "text/plain": [
              "C&W L_2:   0%|          | 0/197 [00:00<?, ?it/s]"
            ]
          },
          "metadata": {}
        },
        {
          "output_type": "stream",
          "text": [
            "WARNING:tensorflow:Calling GradientTape.gradient on a persistent tape inside its context is significantly less efficient than calling it outside the context (it causes the gradient ops to be recorded on the tape, leading to increased CPU and memory usage). Only call GradientTape.gradient inside the context if you actually want to trace the gradient in order to compute higher order derivatives.\n",
            "788/788 - 1s - loss: 30.1498 - categorical_accuracy: 0.7112\n"
          ],
          "name": "stdout"
        }
      ]
    },
    {
      "cell_type": "markdown",
      "metadata": {
        "id": "Mds6jXarfXWe"
      },
      "source": [
        "### DeepFool (DF)"
      ]
    },
    {
      "cell_type": "code",
      "metadata": {
        "id": "QpiwJRIVr8Bu",
        "colab": {
          "base_uri": "https://localhost:8080/",
          "referenced_widgets": [
            "7dba3287990c4325aff8921b2d7c1a53",
            "0404a1d6bc71489f90694230fa085709",
            "a1a9e335ca4040638f39fc12a38d24b6",
            "cb9d09f106324822a38a914fa980e2d6",
            "3de596edf04848d888e7720b0b20cf76",
            "f321657dbfb94d1aab0a6e0046001598",
            "81c8cabe566f4be485641d7e05ee205e",
            "c0be01ce959948c2bb6aa63c8580aef2",
            "371042626afa4260a7c5e8d535a15204",
            "c94d800852704c76863ba0c9393ea68f",
            "b46c069bb64a41069912ff6c00eac4ef"
          ]
        },
        "outputId": "55dfed4c-e4d9-4b19-f1e8-9d9c5fdc40fa"
      },
      "source": [
        "# Creating the adversarial examples crafter\n",
        "adversarial_crafter = DeepFool(classifier,\n",
        "                               epsilon=0.01,\n",
        "                               batch_size=128)\n",
        "\n",
        "# Generating the adversarial examples\n",
        "adversarial_examples = adversarial_crafter.generate(x=x_test, y=y_test)\n",
        "with tf.device(device_name=device):\n",
        "  adversarial_examples = tf.convert_to_tensor(adversarial_examples, np.float32)\n",
        "\n",
        "# Evaluating the model against the adversarial examples\n",
        "model.evaluate(x=adversarial_examples, y=y_test, verbose=2)\n",
        "\n",
        "# Exporting the adversarial examples in a .pkl file\n",
        "with open(\"DF_train.pkl\", \"wb\") as f:\n",
        "  pkl.dump(adversarial_examples, f)"
      ],
      "execution_count": null,
      "outputs": [
        {
          "output_type": "display_data",
          "data": {
            "application/vnd.jupyter.widget-view+json": {
              "model_id": "7dba3287990c4325aff8921b2d7c1a53",
              "version_minor": 0,
              "version_major": 2
            },
            "text/plain": [
              "DeepFool:   0%|          | 0/197 [00:00<?, ?it/s]"
            ]
          },
          "metadata": {}
        },
        {
          "output_type": "stream",
          "text": [
            "WARNING:tensorflow:Calling GradientTape.gradient on a persistent tape inside its context is significantly less efficient than calling it outside the context (it causes the gradient ops to be recorded on the tape, leading to increased CPU and memory usage). Only call GradientTape.gradient inside the context if you actually want to trace the gradient in order to compute higher order derivatives.\n",
            "788/788 - 1s - loss: 18443.9648 - categorical_accuracy: 0.6775\n"
          ],
          "name": "stdout"
        }
      ]
    },
    {
      "cell_type": "markdown",
      "metadata": {
        "id": "6hRS-pIdwh40"
      },
      "source": [
        "## Adversarial Dataset"
      ]
    },
    {
      "cell_type": "markdown",
      "metadata": {
        "id": "U1xJgWq32J72"
      },
      "source": [
        "### Create adversarial dataset for training"
      ]
    },
    {
      "cell_type": "code",
      "metadata": {
        "id": "FdKsG1F1wnU1"
      },
      "source": [
        "path = \"\" # If you saved your .pkl file in a specific path\n",
        "\n",
        "# Clean examples with label 0\n",
        "with open(path+\"clean_train.pkl\", \"rb\") as f:\n",
        "  clean_train = pkl.load(f)\n",
        "  clean_train = pd.DataFrame(clean_train)\n",
        "  labels_0 = [0 for i in range(clean_train.shape[0])]\n",
        "  clean_train[clean_train.shape[1]] = labels_0\n",
        "\n",
        "# Altered examples with label 1\n",
        "labels_1 = [1 for i in range(clean_train.shape[0])]\n",
        "with open(path+\"FGSM_train.pkl\", \"rb\") as f: # FGSM\n",
        "  fgsm_dataset_train = pkl.load(f)\n",
        "  fgsm_train_df = pd.DataFrame(fgsm_dataset_train.numpy())\n",
        "  fgsm_train_df[clean_train.shape[1] - 1] = labels_1\n",
        "with open(path+\"PGD_train.pkl\", \"rb\") as f: # PGD\n",
        "  pgd_dataset_train = pkl.load(f)\n",
        "  pgd_train_df = pd.DataFrame(pgd_dataset_train.numpy())\n",
        "  pgd_train_df[clean_train.shape[1] - 1] = labels_1\n",
        "with open(path+\"CW_train.pkl\", \"rb\") as f: # CW\n",
        "  cw_dataset_train = pkl.load(f)\n",
        "  cw_train_df = pd.DataFrame(cw_dataset_train.numpy())\n",
        "  cw_train_df[clean_train.shape[1] - 1] = labels_1\n",
        "with open(path+\"DF_train.pkl\", \"rb\") as f: # DF\n",
        "  df_dataset_train = pkl.load(f)\n",
        "  df_train_df = pd.DataFrame(df_dataset_train.numpy())\n",
        "  df_train_df[clean_train.shape[1] - 1] = labels_1\n",
        "\n",
        "# Create a balanced dataset containing all attacks\n",
        "size_quarter = clean_train.shape[0] // 4\n",
        "balanced_dataset_train = pd.DataFrame().append([\n",
        "    fgsm_train_df.iloc[:size_quarter],\n",
        "    pgd_train_df.iloc[size_quarter: 2*size_quarter],\n",
        "    cw_train_df.iloc[2*size_quarter:3*size_quarter],\n",
        "    df_train_df.iloc[3*size_quarter:],\n",
        "])\n",
        "\n",
        "# Create each dataset\n",
        "fgsm_adv_dataset_train = clean_train.append(fgsm_train_df, ignore_index=True)\n",
        "pgd_adv_dataset_train = clean_train.append(pgd_train_df, ignore_index=True)\n",
        "cw_adv_dataset_train = clean_train.append(cw_train_df, ignore_index=True)\n",
        "df_adv_dataset_train = clean_train.append(df_train_df, ignore_index=True)\n",
        "balanced_adv_dataset_train = clean_train.append(balanced_dataset_train, ignore_index=True)\n",
        "\n",
        "# Converting the chosen dataset to tensor\n",
        "with tf.device(device):\n",
        "  x_adv_train = tf.convert_to_tensor((fgsm_adv_dataset_train.values[:, :-1]),  np.float32)\n",
        "  y_adv_train = tf.convert_to_tensor((fgsm_adv_dataset_train.values[:, -1]),  np.float32)"
      ],
      "execution_count": null,
      "outputs": []
    },
    {
      "cell_type": "markdown",
      "metadata": {
        "id": "itUHmigP2Pa5"
      },
      "source": [
        "### Create adversarial dataset for testing"
      ]
    },
    {
      "cell_type": "code",
      "metadata": {
        "id": "esck81HA2SzM",
        "colab": {
          "base_uri": "https://localhost:8080/",
          "height": 229
        },
        "outputId": "9c279a09-b923-4611-e264-fe0b8a3d8193"
      },
      "source": [
        "path = \"\" # If you saved your .pkl file in a specific path\n",
        "\n",
        "# Clean examples with label 0\n",
        "with open(path+\"clean_test.pkl\", \"rb\") as f:\n",
        "  clean_test = pkl.load(f)\n",
        "  clean_test = pd.DataFrame(clean_test)\n",
        "  labels = [0 for i in range(clean_test.shape[0])]\n",
        "  clean_test[clean_test.shape[1]] = labels\n",
        "\n",
        "# Altered examples with label 1\n",
        "labels = [1 for i in range(clean_test.shape[0])]\n",
        "with open(path+\"FGSM_test.pkl\", \"rb\") as f: # FGSM\n",
        "  fgsm_dataset_test = pkl.load(f)\n",
        "  fgsm_test_df = pd.DataFrame(fgsm_dataset_test.numpy())\n",
        "  fgsm_test_df[clean_test.shape[1] - 1] = labels\n",
        "with open(path+\"PGD_test.pkl\", \"rb\") as f: # PGD\n",
        "  pgd_dataset_test = pkl.load(f)\n",
        "  pgd_test_df = pd.DataFrame(pgd_dataset_test.numpy())\n",
        "  pgd_test_df[clean_test.shape[1] - 1] = labels\n",
        "with open(path+\"CW_test.pkl\", \"rb\") as f: # CW\n",
        "  cw_dataset_test = pkl.load(f)\n",
        "  cw_test_df = pd.DataFrame(cw_dataset_test.numpy())\n",
        "  cw_test_df[clean_test.shape[1] - 1] = labels\n",
        "with open(path+\"DF_test.pkl\", \"rb\") as f: # DF\n",
        "  df_dataset_test = pkl.load(f)\n",
        "  df_test_df = pd.DataFrame(df_dataset_test.numpy())\n",
        "  df_test_df[clean_test.shape[1] - 1] = labels\n",
        "\n",
        "# Create a balanced dataset containing all attacks\n",
        "size_quarter = clean_test.shape[0] // 4\n",
        "balanced_dataset_test = pd.DataFrame().append([\n",
        "    fgsm_test_df.iloc[:size_quarter],\n",
        "    pgd_test_df.iloc[size_quarter:2*size_quarter],\n",
        "    cw_test_df.iloc[2*size_quarter:3*size_quarter],\n",
        "    df_test_df.iloc[3*size_quarter:],\n",
        "])\n",
        "\n",
        "# Create each dataset\n",
        "fgsm_adv_dataset_test = clean_test.append(fgsm_test_df, ignore_index=True)\n",
        "pgd_adv_dataset_test = clean_test.append(pgd_test_df, ignore_index=True)\n",
        "cw_adv_dataset_test = clean_test.append(cw_test_df, ignore_index=True)\n",
        "df_adv_dataset_test = clean_test.append(df_test_df, ignore_index=True)\n",
        "balanced_adv_dataset_test = clean_test.append(balanced_dataset_test, ignore_index=True)\n",
        "\n",
        "# Converting the chosen dataset to tensor\n",
        "with tf.device(device):\n",
        "  x_adv_test = tf.convert_to_tensor((pdg_adv_dataset_test.values[:, :-1]),  np.float32)\n",
        "  y_adv_test = tf.convert_to_tensor((pdg_adv_dataset_test.values[:, -1]),  np.float32)"
      ],
      "execution_count": null,
      "outputs": [
        {
          "output_type": "error",
          "ename": "FileNotFoundError",
          "evalue": "ignored",
          "traceback": [
            "\u001b[0;31m---------------------------------------------------------------------------\u001b[0m",
            "\u001b[0;31mFileNotFoundError\u001b[0m                         Traceback (most recent call last)",
            "\u001b[0;32m<ipython-input-21-04658b8e22a1>\u001b[0m in \u001b[0;36m<module>\u001b[0;34m()\u001b[0m\n\u001b[1;32m      2\u001b[0m \u001b[0;34m\u001b[0m\u001b[0m\n\u001b[1;32m      3\u001b[0m \u001b[0;31m# Clean examples with label 0\u001b[0m\u001b[0;34m\u001b[0m\u001b[0;34m\u001b[0m\u001b[0;34m\u001b[0m\u001b[0m\n\u001b[0;32m----> 4\u001b[0;31m \u001b[0;32mwith\u001b[0m \u001b[0mopen\u001b[0m\u001b[0;34m(\u001b[0m\u001b[0mpath\u001b[0m\u001b[0;34m+\u001b[0m\u001b[0;34m\"clean_test.pkl\"\u001b[0m\u001b[0;34m,\u001b[0m \u001b[0;34m\"rb\"\u001b[0m\u001b[0;34m)\u001b[0m \u001b[0;32mas\u001b[0m \u001b[0mf\u001b[0m\u001b[0;34m:\u001b[0m\u001b[0;34m\u001b[0m\u001b[0;34m\u001b[0m\u001b[0m\n\u001b[0m\u001b[1;32m      5\u001b[0m   \u001b[0mclean_test\u001b[0m \u001b[0;34m=\u001b[0m \u001b[0mpkl\u001b[0m\u001b[0;34m.\u001b[0m\u001b[0mload\u001b[0m\u001b[0;34m(\u001b[0m\u001b[0mf\u001b[0m\u001b[0;34m)\u001b[0m\u001b[0;34m\u001b[0m\u001b[0;34m\u001b[0m\u001b[0m\n\u001b[1;32m      6\u001b[0m   \u001b[0mclean_test\u001b[0m \u001b[0;34m=\u001b[0m \u001b[0mpd\u001b[0m\u001b[0;34m.\u001b[0m\u001b[0mDataFrame\u001b[0m\u001b[0;34m(\u001b[0m\u001b[0mclean_test\u001b[0m\u001b[0;34m)\u001b[0m\u001b[0;34m\u001b[0m\u001b[0;34m\u001b[0m\u001b[0m\n",
            "\u001b[0;31mFileNotFoundError\u001b[0m: [Errno 2] No such file or directory: 'clean_test.pkl'"
          ]
        }
      ]
    },
    {
      "cell_type": "markdown",
      "metadata": {
        "id": "FuMWMdN7e1dM"
      },
      "source": [
        "## Adversarial Detectors"
      ]
    },
    {
      "cell_type": "markdown",
      "metadata": {
        "id": "mSSNPCM1e7Kb"
      },
      "source": [
        "### Get the weights and config of each layer of the classification network"
      ]
    },
    {
      "cell_type": "code",
      "metadata": {
        "id": "qzcxN0sBfApg"
      },
      "source": [
        "weights_L0 = model.layers[0].get_weights()\n",
        "config_L0 = model.layers[0].get_config()\n",
        "weights_L1 = model.layers[1].get_weights()\n",
        "config_L1 = model.layers[1].get_config()\n",
        "weights_L2 = model.layers[2].get_weights()\n",
        "config_L2 = model.layers[2].get_config()"
      ],
      "execution_count": null,
      "outputs": []
    },
    {
      "cell_type": "markdown",
      "metadata": {
        "id": "AM4zY8AHjTL8"
      },
      "source": [
        "### Copy the layers config into new layers"
      ]
    },
    {
      "cell_type": "code",
      "metadata": {
        "id": "A4Bke7TXs33b"
      },
      "source": [
        "copy_L0_AD0 = tf.keras.layers.Dense.from_config(config_L0)\n",
        "copy_L0_AD1 = tf.keras.layers.Dense.from_config(config_L0)\n",
        "copy_L0_AD2 = tf.keras.layers.Dense.from_config(config_L0)\n",
        "copy_L1_AD1 = tf.keras.layers.Dense.from_config(config_L1)\n",
        "copy_L1_AD2 = tf.keras.layers.Dense.from_config(config_L1)\n",
        "copy_L2_AD2 = tf.keras.layers.Dense.from_config(config_L2)"
      ],
      "execution_count": null,
      "outputs": []
    },
    {
      "cell_type": "markdown",
      "metadata": {
        "id": "KZSY4PTBuvWD"
      },
      "source": [
        "### Create the ADs (Duplication + Fine-Tuning)"
      ]
    },
    {
      "cell_type": "code",
      "metadata": {
        "id": "3Rzer7oof27k"
      },
      "source": [
        "neuron_number = 256\n",
        "output_number = 1\n",
        "\n",
        "with tf.device(device_name=device):\n",
        "  AD0 = tf.keras.models.Sequential(layers=[\n",
        "      copy_L0_AD0,\n",
        "      tf.keras.layers.Dense(neuron_number, activation=\"relu\"),\n",
        "      tf.keras.layers.Dense(neuron_number, activation=\"relu\"),\n",
        "      tf.keras.layers.Dense(output_number, activation=\"sigmoid\", name=\"output_layer\")\n",
        "  ])\n",
        "  AD0.layers[0].set_weights(weights_L0)\n",
        "\n",
        "  AD1 = tf.keras.models.Sequential(layers=[\n",
        "      copy_L0_AD1,\n",
        "      copy_L1_AD1,\n",
        "      tf.keras.layers.Dense(neuron_number, activation=\"relu\"),\n",
        "      tf.keras.layers.Dense(neuron_number, activation=\"relu\"),\n",
        "      tf.keras.layers.Dense(output_number, activation=\"sigmoid\", name=\"output_layer\")\n",
        "  ])\n",
        "  AD1.layers[0].set_weights(weights_L0)\n",
        "  AD1.layers[1].set_weights(weights_L1)\n",
        "\n",
        "  AD2 = tf.keras.models.Sequential(layers=[\n",
        "      copy_L0_AD2,\n",
        "      copy_L1_AD2,\n",
        "      copy_L2_AD2,\n",
        "      tf.keras.layers.Dense(neuron_number, activation=\"relu\"),\n",
        "      tf.keras.layers.Dense(neuron_number, activation=\"relu\"),\n",
        "      tf.keras.layers.Dense(output_number, activation=\"sigmoid\", name=\"output_layer\")\n",
        "  ])\n",
        "  AD2.layers[0].set_weights(weights_L0)\n",
        "  AD2.layers[1].set_weights(weights_L1)\n",
        "  AD2.layers[2].set_weights(weights_L2)"
      ],
      "execution_count": null,
      "outputs": []
    },
    {
      "cell_type": "markdown",
      "metadata": {
        "id": "5JSKWkgEwWat"
      },
      "source": [
        "### Train the ADs"
      ]
    },
    {
      "cell_type": "code",
      "metadata": {
        "id": "Z5dAkPlnrVLF"
      },
      "source": [
        "eval_metric = 'binary_accuracy'\n",
        "lr = 0.01\n",
        "optim0 = tf.keras.optimizers.Adam(learning_rate=lr)\n",
        "loss_fn0 = tf.keras.losses.BinaryCrossentropy()\n",
        "AD0.compile(optimizer=optim0,\n",
        "            loss=loss_fn0,\n",
        "            metrics=[eval_metric])\n",
        "optim1 = tf.keras.optimizers.Adam(learning_rate=lr)\n",
        "loss_fn1 = tf.keras.losses.BinaryCrossentropy()\n",
        "AD1.compile(optimizer=optim1,\n",
        "            loss=loss_fn1,\n",
        "            metrics=[eval_metric])\n",
        "optim2 = tf.keras.optimizers.Adam(learning_rate=lr)\n",
        "loss_fn2 = tf.keras.losses.BinaryCrossentropy()\n",
        "AD2.compile(optimizer=optim2,\n",
        "            loss=loss_fn2,\n",
        "            metrics=[eval_metric])\n",
        "\n",
        "# ---------------------------------------------------------------\n",
        "\n",
        "best_value = 0.0 # Best evaluation metrics on test dataset\n",
        "best_AD0_file = \"./AD0\"\n",
        "\n",
        "# Iterrating on the dataset\n",
        "for i in range(3):\n",
        "  print(\"AD0 Iteration {}\".format(str(i)))\n",
        "  AD0.fit(x=x_adv_train, y=y_adv_train, epochs=10, batch_size=100)\n",
        "  eval_metrics = AD0.evaluate(x_adv_test, y_adv_test, verbose=2)\n",
        "  eval_value = eval_metrics[AD0.metrics_names.index(eval_metric)]\n",
        "  if eval_value > best_value:\n",
        "    best_value = eval_value\n",
        "    tf.keras.models.save_model(AD0, best_AD0_file)\n",
        "\n",
        "# -----------------------------------------------------------------\n",
        "\n",
        "best_value = 0.0 # Best evaluation metrics on test dataset\n",
        "best_AD1_file = \"./AD1\"\n",
        "\n",
        "# Iterrating on the dataset\n",
        "for i in range(3):\n",
        "  print(\"AD1 Iteration {}\".format(str(i)))\n",
        "  AD1.fit(x=x_adv_train, y=y_adv_train, epochs=10, batch_size=100)\n",
        "  eval_metrics = AD1.evaluate(x_adv_test, y_adv_test, verbose=2)\n",
        "  eval_value = eval_metrics[AD1.metrics_names.index(eval_metric)]\n",
        "  if eval_value > best_value:\n",
        "    best_value = eval_value\n",
        "    tf.keras.models.save_model(AD1, best_AD1_file)\n",
        "\n",
        "# ------------------------------------------------------------------\n",
        "\n",
        "best_value = 0.0 # Best evaluation metrics on test dataset\n",
        "best_AD2_file = \"./AD2\"\n",
        "\n",
        "# Iterrating on the dataset\n",
        "for i in range(3):\n",
        "  print(\"AD2 Iteration {}\".format(str(i)))\n",
        "  AD2.fit(x=x_adv_train, y=y_adv_train, epochs=10, batch_size=100)\n",
        "  eval_metrics = AD2.evaluate(x_adv_test, y_adv_test, verbose=2)\n",
        "  eval_value = eval_metrics[AD2.metrics_names.index(eval_metric)]\n",
        "  if eval_value > best_value:\n",
        "    best_value = eval_value\n",
        "    tf.keras.models.save_model(AD2, best_AD2_file)\n"
      ],
      "execution_count": null,
      "outputs": []
    },
    {
      "cell_type": "markdown",
      "metadata": {
        "id": "6hYouioJZ7O7"
      },
      "source": [
        "### Evaluate the ADs"
      ]
    },
    {
      "cell_type": "code",
      "metadata": {
        "id": "TUeXfiqNvmhp"
      },
      "source": [
        "AD0 = tf.keras.models.load_model(\"./AD0\")\n",
        "AD1 = tf.keras.models.load_model(\"./AD1\")\n",
        "AD2 = tf.keras.models.load_model(\"./AD2\")"
      ],
      "execution_count": null,
      "outputs": []
    },
    {
      "cell_type": "code",
      "metadata": {
        "id": "16SZsCmC-Vz8"
      },
      "source": [
        "AD0.evaluate(x_adv_test, y_adv_test)\n",
        "AD1.evaluate(x_adv_test, y_adv_test)\n",
        "AD2.evaluate(x_adv_test, y_adv_test)"
      ],
      "execution_count": null,
      "outputs": []
    },
    {
      "cell_type": "markdown",
      "metadata": {
        "id": "oTnM1uytZNRP"
      },
      "source": [
        "## Fusion Rules"
      ]
    },
    {
      "cell_type": "markdown",
      "metadata": {
        "id": "hnaA3b5GTQxu"
      },
      "source": [
        "### Definition"
      ]
    },
    {
      "cell_type": "markdown",
      "metadata": {
        "id": "n9_2Nkunh1R5"
      },
      "source": [
        "#### Majority Vote"
      ]
    },
    {
      "cell_type": "code",
      "metadata": {
        "id": "U02InnycaYtB"
      },
      "source": [
        "def MajorityVoteRule(ClassProbabilities):\n",
        "  ClassFrequency = np.argmax(ClassProbabilities, axis=1) \n",
        "  counts = np.bincount(ClassFrequency)\n",
        "  MajorityVotingClass = np.argmax(counts)\n",
        "  return MajorityVotingClass"
      ],
      "execution_count": null,
      "outputs": []
    },
    {
      "cell_type": "markdown",
      "metadata": {
        "id": "_cVWYlydh3gG"
      },
      "source": [
        "#### Simple Bayes Average"
      ]
    },
    {
      "cell_type": "code",
      "metadata": {
        "id": "dzP2qgtUaf17"
      },
      "source": [
        "def SimpleBayesAverageFusion(ClassProbabilities):\n",
        "  SimpleBayesAverage=sum(ClassProbabilities,0)/ClassProbabilities.shape[0]\n",
        "  if SimpleBayesAverage[0]>=SimpleBayesAverage[1]:\n",
        "    return 0,SimpleBayesAverage[0]\n",
        "  return 1,SimpleBayesAverage[1]"
      ],
      "execution_count": null,
      "outputs": []
    },
    {
      "cell_type": "markdown",
      "metadata": {
        "id": "xi4HTXeDh6lR"
      },
      "source": [
        "#### Dempster Shafer Evidence Combination"
      ]
    },
    {
      "cell_type": "code",
      "metadata": {
        "id": "87rwdZvnyB_x"
      },
      "source": [
        "def DempsterRule(m1, m2):\n",
        "    ## extract the frame of discernment      \n",
        "    sets=set(m1.keys()).union(set(m2.keys()))\n",
        "    result=dict.fromkeys(sets,0)\n",
        "    ## Combination process\n",
        "    for i in m1.keys():\n",
        "        for j in m2.keys():\n",
        "            if set(str(i)).intersection(set(str(j))) == set(str(i)):\n",
        "                result[i]+=m1[i]*m2[j]\n",
        "            elif set(str(i)).intersection(set(str(j))) == set(str(j)):\n",
        "                result[j]+=m1[i]*m2[j]\n",
        "                 \n",
        "    ## normalize the results\n",
        "    f= sum(list(result.values()))\n",
        "    for i in result.keys():\n",
        "        result[i] /=f\n",
        "    return result\n",
        "\n",
        "def DempsterShaferEvidenceCombinationRule (ClassProbabilities, Weights, DontKnowClass=False):\n",
        "  MassFunctionList= []\n",
        "  for i in range(ClassProbabilities.shape[0]):\n",
        "    MassFunction = {\"a\":Weights[i,0]*ClassProbabilities[i,0], \"b\":Weights[i,1]*ClassProbabilities[i,1],\"ab\":1-Weights[i,0]*ClassProbabilities[i,0]-Weights[i,1]*ClassProbabilities[i,1]}\n",
        "    MassFunctionList.append(MassFunction)\n",
        "    \n",
        "  for i,mass in enumerate(MassFunctionList):\n",
        "    if i == 0:\n",
        "      DSresult = mass\n",
        "    else: \n",
        "      DSresult = DempsterRule(DSresult,mass)\n",
        "\n",
        "  if DSresult['a'] >= DSresult['b']:\n",
        "    return 0, DSresult['a']\n",
        "  else:\n",
        "    return 1, DSresult['b'] "
      ],
      "execution_count": null,
      "outputs": []
    },
    {
      "cell_type": "markdown",
      "metadata": {
        "id": "d7llGJazTVxb"
      },
      "source": [
        "### Compute the results"
      ]
    },
    {
      "cell_type": "markdown",
      "metadata": {
        "id": "Urfuf6gBhX8E"
      },
      "source": [
        "#### Turn mono-neuronal output into bi-class probabilities"
      ]
    },
    {
      "cell_type": "code",
      "metadata": {
        "id": "8PK54-04vsUP"
      },
      "source": [
        "pred_AD0 = AD0.predict(x_adv_test).tolist()\n",
        "pred_AD1 = AD1.predict(x_adv_test).tolist()\n",
        "pred_AD2 = AD2.predict(x_adv_test).tolist()\n",
        "\n",
        "proba_AD0 = []\n",
        "for i in pred_AD0:\n",
        "  proba_AD0.append([1-i[0], i[0]])\n",
        "\n",
        "proba_AD1 = []\n",
        "for i in pred_AD1:\n",
        "  proba_AD1.append([1-i[0], i[0]])\n",
        "  \n",
        "proba_AD2 = []\n",
        "for i in pred_AD2:\n",
        "  proba_AD2.append([1-i[0], i[0]])"
      ],
      "execution_count": null,
      "outputs": []
    },
    {
      "cell_type": "markdown",
      "metadata": {
        "id": "SWxMgNx2g-sT"
      },
      "source": [
        "#### Majority Vote"
      ]
    },
    {
      "cell_type": "code",
      "metadata": {
        "id": "2lXdrRS72srI"
      },
      "source": [
        "guesses = []\n",
        "for i in range(len(proba_AD0)):\n",
        "  class_proba = np.array([proba_AD0[i], proba_AD1[i], proba_AD2[i]])\n",
        "  guesses.append(MajorityVoteRule(class_proba))\n",
        "\n",
        "correct = y_adv_test.numpy()\n",
        "hit = 0\n",
        "for i in range(len(guesses)):\n",
        "  if guesses[i] == correct[i]:\n",
        "    hit += 1\n",
        "acc = hit / len(guesses)\n",
        "print(acc)"
      ],
      "execution_count": null,
      "outputs": []
    },
    {
      "cell_type": "markdown",
      "metadata": {
        "id": "YgONLc16hg7Y"
      },
      "source": [
        "#### Simple Bayes Average"
      ]
    },
    {
      "cell_type": "code",
      "metadata": {
        "id": "5jlMCHybTi2H"
      },
      "source": [
        "guesses = []\n",
        "for i in range(len(proba_AD0)):\n",
        "  class_proba = np.array([proba_AD0[i], proba_AD1[i], proba_AD2[i]])\n",
        "  guesses.append(SimpleBayesAverageFusion(class_proba))\n",
        "\n",
        "correct = y_adv_test.numpy()\n",
        "hit = 0\n",
        "for i in range(len(guesses)):\n",
        "  if guesses[i][0] == correct[i]:\n",
        "    hit += 1\n",
        "acc = hit / len(guesses)\n",
        "print(acc)"
      ],
      "execution_count": null,
      "outputs": []
    },
    {
      "cell_type": "markdown",
      "metadata": {
        "id": "nFyp2ZoIhnPs"
      },
      "source": [
        "#### Dempster Shafer Evidence Combination"
      ]
    },
    {
      "cell_type": "code",
      "metadata": {
        "id": "x9YsCK71hwTP"
      },
      "source": [
        "# Get the weights\n",
        "weights = []\n",
        "correct = y_adv_test.numpy()\n",
        "amount_1 = np.count_nonzero(correct == 1)\n",
        "amount_0 = np.count_nonzero(correct == 0)\n",
        "for proba_AD in [proba_AD0, proba_AD1, proba_AD2]:\n",
        "  weight = []\n",
        "  hit_0 = 0\n",
        "  hit_1 = 0\n",
        "  for i in range(len(proba_AD)):\n",
        "    if proba_AD[i].index(max(proba_AD[i])) == correct[i]:\n",
        "      if correct[i]:\n",
        "        hit_1 += 1\n",
        "      else:\n",
        "        hit_0 += 1\n",
        "  weight = [hit_0/amount_0, hit_1/amount_1]\n",
        "  weights.append(weight)\n",
        "weights = np.array(weights)\n",
        "\n",
        "guesses = []\n",
        "for i in range(len(proba_AD0)):\n",
        "  class_proba = np.array([proba_AD0[i], proba_AD1[i], proba_AD2[i]])\n",
        "  guesses.append(DempsterShaferEvidenceCombinationRule(class_proba, weights))\n",
        "\n",
        "hit = 0\n",
        "for i in range(len(guesses)):\n",
        "  if guesses[i][0] == correct[i]:\n",
        "    hit += 1\n",
        "acc = hit / len(guesses)\n",
        "print(acc)"
      ],
      "execution_count": null,
      "outputs": []
    }
  ]
}